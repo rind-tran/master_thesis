{
 "cells": [
  {
   "cell_type": "code",
   "execution_count": 1,
   "id": "ea17fbc8-1321-4483-9052-c1450180e0e8",
   "metadata": {},
   "outputs": [],
   "source": [
    "# LOAD LIBRARIES\n",
    "import pandas as pd, numpy as np # CPU libraries\n",
    "import matplotlib.pyplot as plt, gc, os\n",
    "import seaborn as sns"
   ]
  },
  {
   "cell_type": "code",
   "execution_count": 2,
   "id": "7c27431f-d800-4e6d-9410-2fddd9500f32",
   "metadata": {},
   "outputs": [
    {
     "name": "stderr",
     "output_type": "stream",
     "text": [
      "/tmp/ipykernel_213/184982313.py:2: DtypeWarning: Columns (0,19,49,59,118,129,130,131,134,135,136,139,145,146,147) have mixed types. Specify dtype option on import or set low_memory=False.\n",
      "  df = pd.read_csv('accepted_2007_to_2018Q4.csv')\n"
     ]
    },
    {
     "data": {
      "text/html": [
       "<div>\n",
       "<style scoped>\n",
       "    .dataframe tbody tr th:only-of-type {\n",
       "        vertical-align: middle;\n",
       "    }\n",
       "\n",
       "    .dataframe tbody tr th {\n",
       "        vertical-align: top;\n",
       "    }\n",
       "\n",
       "    .dataframe thead th {\n",
       "        text-align: right;\n",
       "    }\n",
       "</style>\n",
       "<table border=\"1\" class=\"dataframe\">\n",
       "  <thead>\n",
       "    <tr style=\"text-align: right;\">\n",
       "      <th></th>\n",
       "      <th>id</th>\n",
       "      <th>member_id</th>\n",
       "      <th>loan_amnt</th>\n",
       "      <th>funded_amnt</th>\n",
       "      <th>funded_amnt_inv</th>\n",
       "      <th>term</th>\n",
       "      <th>int_rate</th>\n",
       "      <th>installment</th>\n",
       "      <th>grade</th>\n",
       "      <th>sub_grade</th>\n",
       "      <th>...</th>\n",
       "      <th>hardship_payoff_balance_amount</th>\n",
       "      <th>hardship_last_payment_amount</th>\n",
       "      <th>disbursement_method</th>\n",
       "      <th>debt_settlement_flag</th>\n",
       "      <th>debt_settlement_flag_date</th>\n",
       "      <th>settlement_status</th>\n",
       "      <th>settlement_date</th>\n",
       "      <th>settlement_amount</th>\n",
       "      <th>settlement_percentage</th>\n",
       "      <th>settlement_term</th>\n",
       "    </tr>\n",
       "  </thead>\n",
       "  <tbody>\n",
       "    <tr>\n",
       "      <th>0</th>\n",
       "      <td>68407277</td>\n",
       "      <td>NaN</td>\n",
       "      <td>3600.0</td>\n",
       "      <td>3600.0</td>\n",
       "      <td>3600.0</td>\n",
       "      <td>36 months</td>\n",
       "      <td>13.99</td>\n",
       "      <td>123.03</td>\n",
       "      <td>C</td>\n",
       "      <td>C4</td>\n",
       "      <td>...</td>\n",
       "      <td>NaN</td>\n",
       "      <td>NaN</td>\n",
       "      <td>Cash</td>\n",
       "      <td>N</td>\n",
       "      <td>NaN</td>\n",
       "      <td>NaN</td>\n",
       "      <td>NaN</td>\n",
       "      <td>NaN</td>\n",
       "      <td>NaN</td>\n",
       "      <td>NaN</td>\n",
       "    </tr>\n",
       "    <tr>\n",
       "      <th>1</th>\n",
       "      <td>68355089</td>\n",
       "      <td>NaN</td>\n",
       "      <td>24700.0</td>\n",
       "      <td>24700.0</td>\n",
       "      <td>24700.0</td>\n",
       "      <td>36 months</td>\n",
       "      <td>11.99</td>\n",
       "      <td>820.28</td>\n",
       "      <td>C</td>\n",
       "      <td>C1</td>\n",
       "      <td>...</td>\n",
       "      <td>NaN</td>\n",
       "      <td>NaN</td>\n",
       "      <td>Cash</td>\n",
       "      <td>N</td>\n",
       "      <td>NaN</td>\n",
       "      <td>NaN</td>\n",
       "      <td>NaN</td>\n",
       "      <td>NaN</td>\n",
       "      <td>NaN</td>\n",
       "      <td>NaN</td>\n",
       "    </tr>\n",
       "  </tbody>\n",
       "</table>\n",
       "<p>2 rows × 151 columns</p>\n",
       "</div>"
      ],
      "text/plain": [
       "         id  member_id  loan_amnt  funded_amnt  funded_amnt_inv        term  \\\n",
       "0  68407277        NaN     3600.0       3600.0           3600.0   36 months   \n",
       "1  68355089        NaN    24700.0      24700.0          24700.0   36 months   \n",
       "\n",
       "   int_rate  installment grade sub_grade  ... hardship_payoff_balance_amount  \\\n",
       "0     13.99       123.03     C        C4  ...                            NaN   \n",
       "1     11.99       820.28     C        C1  ...                            NaN   \n",
       "\n",
       "  hardship_last_payment_amount disbursement_method  debt_settlement_flag  \\\n",
       "0                          NaN                Cash                     N   \n",
       "1                          NaN                Cash                     N   \n",
       "\n",
       "  debt_settlement_flag_date settlement_status settlement_date  \\\n",
       "0                       NaN               NaN             NaN   \n",
       "1                       NaN               NaN             NaN   \n",
       "\n",
       "  settlement_amount settlement_percentage settlement_term  \n",
       "0               NaN                   NaN             NaN  \n",
       "1               NaN                   NaN             NaN  \n",
       "\n",
       "[2 rows x 151 columns]"
      ]
     },
     "execution_count": 2,
     "metadata": {},
     "output_type": "execute_result"
    }
   ],
   "source": [
    "# load dataset\n",
    "df = pd.read_csv('accepted_2007_to_2018Q4.csv')\n",
    "df.head(2)"
   ]
  },
  {
   "cell_type": "code",
   "execution_count": 3,
   "id": "148a2e02-80fa-426f-9352-7a8d327dd985",
   "metadata": {},
   "outputs": [
    {
     "data": {
      "text/plain": [
       "(2260701, 151)"
      ]
     },
     "execution_count": 3,
     "metadata": {},
     "output_type": "execute_result"
    }
   ],
   "source": [
    "df.shape"
   ]
  },
  {
   "cell_type": "code",
   "execution_count": 4,
   "id": "b89b9e81-2e9a-4643-9ece-0159617468e5",
   "metadata": {},
   "outputs": [],
   "source": [
    "# Tranform issue_d into datetime\n",
    "df['issue_d'] = pd.to_datetime(df['issue_d'], format='%b-%Y')\n"
   ]
  },
  {
   "cell_type": "code",
   "execution_count": 5,
   "id": "22353c9d-e469-4ea6-8ab4-69ab1849462f",
   "metadata": {},
   "outputs": [],
   "source": [
    "# Filter only data from 2015 to 2018\n",
    "df = df[(df[\"issue_d\"] >= '2015-01-01')]"
   ]
  },
  {
   "cell_type": "code",
   "execution_count": 6,
   "id": "3e5d1701-aabe-428f-8ac4-ec6431709f75",
   "metadata": {},
   "outputs": [],
   "source": [
    "keep_list = ['loan_amnt',\n",
    "              'funded_amnt',\n",
    "              'term',\n",
    "              'int_rate',\n",
    "              'grade',\n",
    "              'emp_title', \n",
    "              'emp_length',\n",
    "              'home_ownership',\n",
    "              'annual_inc',\n",
    "              'verification_status',\n",
    "              'issue_d',\n",
    "              'loan_status',\n",
    "              'purpose',\n",
    "              'zip_code',\n",
    "              'dti',\n",
    "              'delinq_2yrs',\n",
    "              'earliest_cr_line',\n",
    "              'open_acc',\n",
    "              'pub_rec',\n",
    "              'fico_range_high',\n",
    "              'fico_range_low',\n",
    "              'revol_bal',\n",
    "              'revol_util',\n",
    "    \n",
    "]\n",
    "\n",
    "drop_list = [col for col in df.columns if col not in keep_list]\n",
    "df.drop(labels=drop_list, axis=1, inplace=True)"
   ]
  },
  {
   "cell_type": "code",
   "execution_count": 7,
   "id": "aabd69ae-6ba6-4111-827c-83e3cc3f0d9c",
   "metadata": {},
   "outputs": [
    {
     "data": {
      "text/plain": [
       "(1794323, 23)"
      ]
     },
     "execution_count": 7,
     "metadata": {},
     "output_type": "execute_result"
    }
   ],
   "source": [
    "df.shape"
   ]
  },
  {
   "cell_type": "code",
   "execution_count": 8,
   "id": "2b65b3f2-632f-44e7-91f3-6ec5942e2e2d",
   "metadata": {},
   "outputs": [
    {
     "name": "stdout",
     "output_type": "stream",
     "text": [
      "<class 'pandas.core.frame.DataFrame'>\n",
      "Index: 1794323 entries, 0 to 2260698\n",
      "Data columns (total 23 columns):\n",
      " #   Column               Dtype         \n",
      "---  ------               -----         \n",
      " 0   loan_amnt            float64       \n",
      " 1   funded_amnt          float64       \n",
      " 2   term                 object        \n",
      " 3   int_rate             float64       \n",
      " 4   grade                object        \n",
      " 5   emp_title            object        \n",
      " 6   emp_length           object        \n",
      " 7   home_ownership       object        \n",
      " 8   annual_inc           float64       \n",
      " 9   verification_status  object        \n",
      " 10  issue_d              datetime64[ns]\n",
      " 11  loan_status          object        \n",
      " 12  purpose              object        \n",
      " 13  zip_code             object        \n",
      " 14  dti                  float64       \n",
      " 15  delinq_2yrs          float64       \n",
      " 16  earliest_cr_line     object        \n",
      " 17  fico_range_low       float64       \n",
      " 18  fico_range_high      float64       \n",
      " 19  open_acc             float64       \n",
      " 20  pub_rec              float64       \n",
      " 21  revol_bal            float64       \n",
      " 22  revol_util           float64       \n",
      "dtypes: datetime64[ns](1), float64(12), object(10)\n",
      "memory usage: 328.6+ MB\n"
     ]
    }
   ],
   "source": [
    "df.info()"
   ]
  },
  {
   "cell_type": "code",
   "execution_count": 9,
   "id": "3bc3a048-9757-4466-a4f8-e5c69ab02926",
   "metadata": {},
   "outputs": [
    {
     "data": {
      "text/html": [
       "<div>\n",
       "<style scoped>\n",
       "    .dataframe tbody tr th:only-of-type {\n",
       "        vertical-align: middle;\n",
       "    }\n",
       "\n",
       "    .dataframe tbody tr th {\n",
       "        vertical-align: top;\n",
       "    }\n",
       "\n",
       "    .dataframe thead th {\n",
       "        text-align: right;\n",
       "    }\n",
       "</style>\n",
       "<table border=\"1\" class=\"dataframe\">\n",
       "  <thead>\n",
       "    <tr style=\"text-align: right;\">\n",
       "      <th></th>\n",
       "      <th>loan_amnt</th>\n",
       "      <th>funded_amnt</th>\n",
       "      <th>int_rate</th>\n",
       "      <th>annual_inc</th>\n",
       "      <th>issue_d</th>\n",
       "      <th>dti</th>\n",
       "      <th>delinq_2yrs</th>\n",
       "      <th>fico_range_low</th>\n",
       "      <th>fico_range_high</th>\n",
       "      <th>open_acc</th>\n",
       "      <th>pub_rec</th>\n",
       "      <th>revol_bal</th>\n",
       "      <th>revol_util</th>\n",
       "    </tr>\n",
       "  </thead>\n",
       "  <tbody>\n",
       "    <tr>\n",
       "      <th>count</th>\n",
       "      <td>1.794323e+06</td>\n",
       "      <td>1.794323e+06</td>\n",
       "      <td>1.794323e+06</td>\n",
       "      <td>1.794323e+06</td>\n",
       "      <td>1794323</td>\n",
       "      <td>1.792612e+06</td>\n",
       "      <td>1.794323e+06</td>\n",
       "      <td>1.794323e+06</td>\n",
       "      <td>1.794323e+06</td>\n",
       "      <td>1.794323e+06</td>\n",
       "      <td>1.794323e+06</td>\n",
       "      <td>1.794323e+06</td>\n",
       "      <td>1.792861e+06</td>\n",
       "    </tr>\n",
       "    <tr>\n",
       "      <th>mean</th>\n",
       "      <td>1.523661e+04</td>\n",
       "      <td>1.523659e+04</td>\n",
       "      <td>1.290164e+01</td>\n",
       "      <td>7.921845e+04</td>\n",
       "      <td>2017-01-13 07:09:30.300665856</td>\n",
       "      <td>1.924170e+01</td>\n",
       "      <td>3.126488e-01</td>\n",
       "      <td>6.992316e+02</td>\n",
       "      <td>7.032319e+02</td>\n",
       "      <td>1.172297e+01</td>\n",
       "      <td>2.071322e-01</td>\n",
       "      <td>1.676983e+04</td>\n",
       "      <td>4.881974e+01</td>\n",
       "    </tr>\n",
       "    <tr>\n",
       "      <th>min</th>\n",
       "      <td>1.000000e+03</td>\n",
       "      <td>1.000000e+03</td>\n",
       "      <td>5.310000e+00</td>\n",
       "      <td>0.000000e+00</td>\n",
       "      <td>2015-01-01 00:00:00</td>\n",
       "      <td>-1.000000e+00</td>\n",
       "      <td>0.000000e+00</td>\n",
       "      <td>6.600000e+02</td>\n",
       "      <td>6.640000e+02</td>\n",
       "      <td>0.000000e+00</td>\n",
       "      <td>0.000000e+00</td>\n",
       "      <td>0.000000e+00</td>\n",
       "      <td>0.000000e+00</td>\n",
       "    </tr>\n",
       "    <tr>\n",
       "      <th>25%</th>\n",
       "      <td>8.000000e+03</td>\n",
       "      <td>8.000000e+03</td>\n",
       "      <td>9.430000e+00</td>\n",
       "      <td>4.700000e+04</td>\n",
       "      <td>2016-01-01 00:00:00</td>\n",
       "      <td>1.205000e+01</td>\n",
       "      <td>0.000000e+00</td>\n",
       "      <td>6.750000e+02</td>\n",
       "      <td>6.790000e+02</td>\n",
       "      <td>8.000000e+00</td>\n",
       "      <td>0.000000e+00</td>\n",
       "      <td>5.831000e+03</td>\n",
       "      <td>2.980000e+01</td>\n",
       "    </tr>\n",
       "    <tr>\n",
       "      <th>50%</th>\n",
       "      <td>1.300000e+04</td>\n",
       "      <td>1.300000e+04</td>\n",
       "      <td>1.229000e+01</td>\n",
       "      <td>6.500000e+04</td>\n",
       "      <td>2017-02-01 00:00:00</td>\n",
       "      <td>1.812000e+01</td>\n",
       "      <td>0.000000e+00</td>\n",
       "      <td>6.900000e+02</td>\n",
       "      <td>6.940000e+02</td>\n",
       "      <td>1.100000e+01</td>\n",
       "      <td>0.000000e+00</td>\n",
       "      <td>1.120700e+04</td>\n",
       "      <td>4.830000e+01</td>\n",
       "    </tr>\n",
       "    <tr>\n",
       "      <th>75%</th>\n",
       "      <td>2.000000e+04</td>\n",
       "      <td>2.000000e+04</td>\n",
       "      <td>1.561000e+01</td>\n",
       "      <td>9.500000e+04</td>\n",
       "      <td>2018-02-01 00:00:00</td>\n",
       "      <td>2.499000e+01</td>\n",
       "      <td>0.000000e+00</td>\n",
       "      <td>7.150000e+02</td>\n",
       "      <td>7.190000e+02</td>\n",
       "      <td>1.500000e+01</td>\n",
       "      <td>0.000000e+00</td>\n",
       "      <td>2.022100e+04</td>\n",
       "      <td>6.760000e+01</td>\n",
       "    </tr>\n",
       "    <tr>\n",
       "      <th>max</th>\n",
       "      <td>4.000000e+04</td>\n",
       "      <td>4.000000e+04</td>\n",
       "      <td>3.099000e+01</td>\n",
       "      <td>1.100000e+08</td>\n",
       "      <td>2018-12-01 00:00:00</td>\n",
       "      <td>9.990000e+02</td>\n",
       "      <td>5.800000e+01</td>\n",
       "      <td>8.450000e+02</td>\n",
       "      <td>8.500000e+02</td>\n",
       "      <td>1.010000e+02</td>\n",
       "      <td>8.600000e+01</td>\n",
       "      <td>2.904836e+06</td>\n",
       "      <td>1.930000e+02</td>\n",
       "    </tr>\n",
       "    <tr>\n",
       "      <th>std</th>\n",
       "      <td>9.401695e+03</td>\n",
       "      <td>9.401696e+03</td>\n",
       "      <td>4.930004e+00</td>\n",
       "      <td>1.233243e+05</td>\n",
       "      <td>NaN</td>\n",
       "      <td>1.538244e+01</td>\n",
       "      <td>8.843963e-01</td>\n",
       "      <td>3.353838e+01</td>\n",
       "      <td>3.353937e+01</td>\n",
       "      <td>5.793524e+00</td>\n",
       "      <td>5.846403e-01</td>\n",
       "      <td>2.350181e+04</td>\n",
       "      <td>2.473695e+01</td>\n",
       "    </tr>\n",
       "  </tbody>\n",
       "</table>\n",
       "</div>"
      ],
      "text/plain": [
       "          loan_amnt   funded_amnt      int_rate    annual_inc  \\\n",
       "count  1.794323e+06  1.794323e+06  1.794323e+06  1.794323e+06   \n",
       "mean   1.523661e+04  1.523659e+04  1.290164e+01  7.921845e+04   \n",
       "min    1.000000e+03  1.000000e+03  5.310000e+00  0.000000e+00   \n",
       "25%    8.000000e+03  8.000000e+03  9.430000e+00  4.700000e+04   \n",
       "50%    1.300000e+04  1.300000e+04  1.229000e+01  6.500000e+04   \n",
       "75%    2.000000e+04  2.000000e+04  1.561000e+01  9.500000e+04   \n",
       "max    4.000000e+04  4.000000e+04  3.099000e+01  1.100000e+08   \n",
       "std    9.401695e+03  9.401696e+03  4.930004e+00  1.233243e+05   \n",
       "\n",
       "                             issue_d           dti   delinq_2yrs  \\\n",
       "count                        1794323  1.792612e+06  1.794323e+06   \n",
       "mean   2017-01-13 07:09:30.300665856  1.924170e+01  3.126488e-01   \n",
       "min              2015-01-01 00:00:00 -1.000000e+00  0.000000e+00   \n",
       "25%              2016-01-01 00:00:00  1.205000e+01  0.000000e+00   \n",
       "50%              2017-02-01 00:00:00  1.812000e+01  0.000000e+00   \n",
       "75%              2018-02-01 00:00:00  2.499000e+01  0.000000e+00   \n",
       "max              2018-12-01 00:00:00  9.990000e+02  5.800000e+01   \n",
       "std                              NaN  1.538244e+01  8.843963e-01   \n",
       "\n",
       "       fico_range_low  fico_range_high      open_acc       pub_rec  \\\n",
       "count    1.794323e+06     1.794323e+06  1.794323e+06  1.794323e+06   \n",
       "mean     6.992316e+02     7.032319e+02  1.172297e+01  2.071322e-01   \n",
       "min      6.600000e+02     6.640000e+02  0.000000e+00  0.000000e+00   \n",
       "25%      6.750000e+02     6.790000e+02  8.000000e+00  0.000000e+00   \n",
       "50%      6.900000e+02     6.940000e+02  1.100000e+01  0.000000e+00   \n",
       "75%      7.150000e+02     7.190000e+02  1.500000e+01  0.000000e+00   \n",
       "max      8.450000e+02     8.500000e+02  1.010000e+02  8.600000e+01   \n",
       "std      3.353838e+01     3.353937e+01  5.793524e+00  5.846403e-01   \n",
       "\n",
       "          revol_bal    revol_util  \n",
       "count  1.794323e+06  1.792861e+06  \n",
       "mean   1.676983e+04  4.881974e+01  \n",
       "min    0.000000e+00  0.000000e+00  \n",
       "25%    5.831000e+03  2.980000e+01  \n",
       "50%    1.120700e+04  4.830000e+01  \n",
       "75%    2.022100e+04  6.760000e+01  \n",
       "max    2.904836e+06  1.930000e+02  \n",
       "std    2.350181e+04  2.473695e+01  "
      ]
     },
     "execution_count": 9,
     "metadata": {},
     "output_type": "execute_result"
    }
   ],
   "source": [
    "df.describe()"
   ]
  },
  {
   "cell_type": "code",
   "execution_count": 10,
   "id": "f207ac43-a044-4428-8f54-f64d55b0c796",
   "metadata": {},
   "outputs": [
    {
     "data": {
      "image/png": "[encoded data removed]",
      "text/plain": [
       "<Figure size 1600x400 with 1 Axes>"
      ]
     },
     "metadata": {},
     "output_type": "display_data"
    }
   ],
   "source": [
    "# Loan status distribution\n",
    "\n",
    "temp = df['loan_status'].value_counts(normalize=True)\n",
    "plt.figure(figsize=(16, 4))\n",
    "plt.bar(temp.index, temp.values)\n",
    "plt.xlabel('target')\n",
    "plt.ylabel('frequency')\n",
    "\n",
    "# Rotate the x-ticks by 45 degrees\n",
    "plt.xticks(rotation=45)\n",
    "\n",
    "# Add percentage labels on bars\n",
    "for i, value in enumerate(temp.values):\n",
    "    plt.text(temp.index[i], value, f\"{value:.2%}\", ha='center', va='bottom')"
   ]
  },
  {
   "cell_type": "markdown",
   "id": "38ca9b5b-6804-4ef2-afec-29630688ec33",
   "metadata": {},
   "source": [
    "We take fully paid and charged off only"
   ]
  },
  {
   "cell_type": "code",
   "execution_count": 11,
   "id": "dd173bd7-e7bb-4842-8bc9-f08aca408598",
   "metadata": {},
   "outputs": [],
   "source": [
    "df = df[(df['loan_status'] == 'Fully Paid') | (df['loan_status'] == 'Charged Off')]"
   ]
  },
  {
   "cell_type": "code",
   "execution_count": 12,
   "id": "12fcaa48-6b3b-4177-b294-5cf5a298a05e",
   "metadata": {},
   "outputs": [
    {
     "data": {
      "text/plain": [
       "(894251, 23)"
      ]
     },
     "execution_count": 12,
     "metadata": {},
     "output_type": "execute_result"
    }
   ],
   "source": [
    "df.shape"
   ]
  },
  {
   "cell_type": "markdown",
   "id": "c1240b2e-a16b-48dc-b58f-1652a7e87433",
   "metadata": {},
   "source": [
    "Create target variable named 'default' and drop loan_status"
   ]
  },
  {
   "cell_type": "code",
   "execution_count": 13,
   "id": "97126815-09f7-4352-8260-c8d0de4c0e5f",
   "metadata": {},
   "outputs": [],
   "source": [
    "df['default'] = df['loan_status'].apply(lambda x: int(0) if x == 'Fully Paid' else int(1))"
   ]
  },
  {
   "cell_type": "code",
   "execution_count": 14,
   "id": "ad5f790f-e0b2-41c4-b19d-bb0957ffc8cb",
   "metadata": {},
   "outputs": [],
   "source": [
    "df = df.drop(columns=['loan_status'])"
   ]
  },
  {
   "cell_type": "markdown",
   "id": "e4589be5-d0c9-4eeb-a999-e2726fd7898c",
   "metadata": {},
   "source": [
    "Remove all variables have only 1 value"
   ]
  },
  {
   "cell_type": "code",
   "execution_count": 15,
   "id": "728650e6-9a06-44ba-b7ad-61620c7b5761",
   "metadata": {},
   "outputs": [
    {
     "name": "stdout",
     "output_type": "stream",
     "text": [
      "Columns with only one unique value: []\n"
     ]
    }
   ],
   "source": [
    "constant_features = [col for col in df.columns if df[col].nunique() == 1]\n",
    "print(\"Columns with only one unique value:\", constant_features)\n",
    "\n",
    "df = df.drop(columns=constant_features)"
   ]
  },
  {
   "cell_type": "markdown",
   "id": "6ab142de-db0c-4777-a7fc-5123d43a830c",
   "metadata": {},
   "source": [
    "Remove funded_amnt and fico_range_high for Multicollinearity elimination"
   ]
  },
  {
   "cell_type": "code",
   "execution_count": 16,
   "id": "d112b09f-b505-4c15-9e0f-9aad7dcd1587",
   "metadata": {},
   "outputs": [],
   "source": [
    "df = df.drop(columns=['funded_amnt','fico_range_high'])"
   ]
  },
  {
   "cell_type": "code",
   "execution_count": 17,
   "id": "646613ac-3403-4eaf-a77b-c4b71e835052",
   "metadata": {},
   "outputs": [
    {
     "data": {
      "text/plain": [
       "(894251, 21)"
      ]
     },
     "execution_count": 17,
     "metadata": {},
     "output_type": "execute_result"
    }
   ],
   "source": [
    "df.shape"
   ]
  },
  {
   "cell_type": "markdown",
   "id": "2ffb52da-4817-47bc-8a29-c698c6f4b736",
   "metadata": {},
   "source": [
    "# Missing Value"
   ]
  },
  {
   "cell_type": "markdown",
   "id": "6538dc6a-fede-4c49-a92a-79c2157a1d0f",
   "metadata": {},
   "source": [
    "### 1. Drop missing variables > 50%"
   ]
  },
  {
   "cell_type": "code",
   "execution_count": 18,
   "id": "75b77dc7-8e8d-42d4-bc18-c41f842ae3ef",
   "metadata": {},
   "outputs": [],
   "source": [
    "missing_cols = df.columns[df.isnull().mean() > 0.5]"
   ]
  },
  {
   "cell_type": "code",
   "execution_count": 19,
   "id": "c9478f77-ecb2-4f70-8e85-484aad14c1e6",
   "metadata": {},
   "outputs": [
    {
     "name": "stdout",
     "output_type": "stream",
     "text": [
      "Index([], dtype='object')\n"
     ]
    }
   ],
   "source": [
    "print(missing_cols)"
   ]
  },
  {
   "cell_type": "markdown",
   "id": "7a47914b-b0e7-41a5-848b-076c88d9936f",
   "metadata": {},
   "source": [
    "Drop variables"
   ]
  },
  {
   "cell_type": "code",
   "execution_count": 20,
   "id": "c7cd7892-9d4a-4a1e-b3f1-d572fa64883f",
   "metadata": {},
   "outputs": [],
   "source": [
    "df = df.drop(columns=missing_cols)"
   ]
  },
  {
   "cell_type": "code",
   "execution_count": 21,
   "id": "5df26f46-f852-483c-85a8-536cf3952741",
   "metadata": {},
   "outputs": [
    {
     "data": {
      "text/plain": [
       "(894251, 21)"
      ]
     },
     "execution_count": 21,
     "metadata": {},
     "output_type": "execute_result"
    }
   ],
   "source": [
    "df.shape"
   ]
  },
  {
   "cell_type": "markdown",
   "id": "7ef0210a-644f-4c4e-8bec-05a912492f47",
   "metadata": {},
   "source": [
    "### 2. Fill remaining null variables with suitable values"
   ]
  },
  {
   "cell_type": "code",
   "execution_count": 22,
   "id": "424259af-d8e1-4005-8e3c-186138e93c9e",
   "metadata": {},
   "outputs": [],
   "source": [
    "missing_cols = df.columns[df.isnull().mean() > 0]"
   ]
  },
  {
   "cell_type": "code",
   "execution_count": 23,
   "id": "79ae50a2-2561-47cc-8c79-401731c1248d",
   "metadata": {},
   "outputs": [
    {
     "name": "stdout",
     "output_type": "stream",
     "text": [
      "Index(['emp_title', 'emp_length', 'zip_code', 'dti', 'revol_util'], dtype='object')\n"
     ]
    }
   ],
   "source": [
    "print(missing_cols)"
   ]
  },
  {
   "cell_type": "code",
   "execution_count": 24,
   "id": "00fe5521-3b34-46cd-a3ec-fc73becc2cb5",
   "metadata": {},
   "outputs": [
    {
     "data": {
      "text/plain": [
       "emp_title     58825\n",
       "emp_length    57992\n",
       "zip_code          1\n",
       "dti             374\n",
       "revol_util      567\n",
       "dtype: int64"
      ]
     },
     "execution_count": 24,
     "metadata": {},
     "output_type": "execute_result"
    }
   ],
   "source": [
    "df[missing_cols].isnull().sum()"
   ]
  },
  {
   "cell_type": "code",
   "execution_count": 25,
   "id": "7babd736-7e85-4055-931b-a64e98991c13",
   "metadata": {},
   "outputs": [
    {
     "data": {
      "text/plain": [
       "emp_title     0.065781\n",
       "emp_length    0.064850\n",
       "zip_code      0.000001\n",
       "dti           0.000418\n",
       "revol_util    0.000634\n",
       "dtype: float64"
      ]
     },
     "execution_count": 25,
     "metadata": {},
     "output_type": "execute_result"
    }
   ],
   "source": [
    "df[missing_cols].isnull().mean()"
   ]
  },
  {
   "cell_type": "code",
   "execution_count": 26,
   "id": "ddfedded-3687-42d6-90ba-272d1b856f6a",
   "metadata": {},
   "outputs": [
    {
     "name": "stderr",
     "output_type": "stream",
     "text": [
      "/tmp/ipykernel_213/2252016898.py:5: FutureWarning: A value is trying to be set on a copy of a DataFrame or Series through chained assignment using an inplace method.\n",
      "The behavior will change in pandas 3.0. This inplace method will never work because the intermediate object on which we are setting values always behaves as a copy.\n",
      "\n",
      "For example, when doing 'df[col].method(value, inplace=True)', try using 'df.method({col: value}, inplace=True)' or df[col] = df[col].method(value) instead, to perform the operation inplace on the original object.\n",
      "\n",
      "\n",
      "  df[variable].fillna(df[variable].median(), inplace=True)\n",
      "/tmp/ipykernel_213/2252016898.py:5: FutureWarning: A value is trying to be set on a copy of a DataFrame or Series through chained assignment using an inplace method.\n",
      "The behavior will change in pandas 3.0. This inplace method will never work because the intermediate object on which we are setting values always behaves as a copy.\n",
      "\n",
      "For example, when doing 'df[col].method(value, inplace=True)', try using 'df.method({col: value}, inplace=True)' or df[col] = df[col].method(value) instead, to perform the operation inplace on the original object.\n",
      "\n",
      "\n",
      "  df[variable].fillna(df[variable].median(), inplace=True)\n"
     ]
    }
   ],
   "source": [
    "# Fill with median\n",
    "variables = ['dti', 'revol_util']\n",
    "\n",
    "for variable in variables:\n",
    "    df[variable].fillna(df[variable].median(), inplace=True) "
   ]
  },
  {
   "cell_type": "code",
   "execution_count": 27,
   "id": "e7e27be4-f132-4459-9d78-18f5832a7529",
   "metadata": {},
   "outputs": [
    {
     "name": "stderr",
     "output_type": "stream",
     "text": [
      "/tmp/ipykernel_213/3256916007.py:4: FutureWarning: A value is trying to be set on a copy of a DataFrame or Series through chained assignment using an inplace method.\n",
      "The behavior will change in pandas 3.0. This inplace method will never work because the intermediate object on which we are setting values always behaves as a copy.\n",
      "\n",
      "For example, when doing 'df[col].method(value, inplace=True)', try using 'df.method({col: value}, inplace=True)' or df[col] = df[col].method(value) instead, to perform the operation inplace on the original object.\n",
      "\n",
      "\n",
      "  df[variable].fillna(df[variable].mode()[0], inplace=True)\n"
     ]
    }
   ],
   "source": [
    "# Fill with mode\n",
    "variables = ['emp_title', 'emp_length', 'zip_code']\n",
    "for variable in variables:\n",
    "    df[variable].fillna(df[variable].mode()[0], inplace=True)\n"
   ]
  },
  {
   "cell_type": "code",
   "execution_count": 28,
   "id": "8a0ef24e-0278-4b63-a2e4-8db199ca8954",
   "metadata": {},
   "outputs": [
    {
     "data": {
      "text/plain": [
       "emp_title     0\n",
       "emp_length    0\n",
       "zip_code      0\n",
       "dti           0\n",
       "revol_util    0\n",
       "dtype: int64"
      ]
     },
     "execution_count": 28,
     "metadata": {},
     "output_type": "execute_result"
    }
   ],
   "source": [
    "df[missing_cols].isnull().sum()"
   ]
  },
  {
   "cell_type": "code",
   "execution_count": 29,
   "id": "505e15de-6404-44f8-a954-0bca3241d70a",
   "metadata": {},
   "outputs": [
    {
     "data": {
      "text/plain": [
       "(894251, 21)"
      ]
     },
     "execution_count": 29,
     "metadata": {},
     "output_type": "execute_result"
    }
   ],
   "source": [
    "df.shape"
   ]
  },
  {
   "cell_type": "markdown",
   "id": "b7417f0a-d4dc-4c9d-b795-e12600ba3543",
   "metadata": {},
   "source": [
    "# Remove outliers"
   ]
  },
  {
   "cell_type": "code",
   "execution_count": 30,
   "id": "63b59496-cfc5-4432-bc12-4a3dafa8c74b",
   "metadata": {},
   "outputs": [
    {
     "name": "stdout",
     "output_type": "stream",
     "text": [
      "<class 'pandas.core.frame.DataFrame'>\n",
      "Index: 894251 entries, 0 to 2260697\n",
      "Data columns (total 21 columns):\n",
      " #   Column               Non-Null Count   Dtype         \n",
      "---  ------               --------------   -----         \n",
      " 0   loan_amnt            894251 non-null  float64       \n",
      " 1   term                 894251 non-null  object        \n",
      " 2   int_rate             894251 non-null  float64       \n",
      " 3   grade                894251 non-null  object        \n",
      " 4   emp_title            894251 non-null  object        \n",
      " 5   emp_length           894251 non-null  object        \n",
      " 6   home_ownership       894251 non-null  object        \n",
      " 7   annual_inc           894251 non-null  float64       \n",
      " 8   verification_status  894251 non-null  object        \n",
      " 9   issue_d              894251 non-null  datetime64[ns]\n",
      " 10  purpose              894251 non-null  object        \n",
      " 11  zip_code             894251 non-null  object        \n",
      " 12  dti                  894251 non-null  float64       \n",
      " 13  delinq_2yrs          894251 non-null  float64       \n",
      " 14  earliest_cr_line     894251 non-null  object        \n",
      " 15  fico_range_low       894251 non-null  float64       \n",
      " 16  open_acc             894251 non-null  float64       \n",
      " 17  pub_rec              894251 non-null  float64       \n",
      " 18  revol_bal            894251 non-null  float64       \n",
      " 19  revol_util           894251 non-null  float64       \n",
      " 20  default              894251 non-null  int64         \n",
      "dtypes: datetime64[ns](1), float64(10), int64(1), object(9)\n",
      "memory usage: 150.1+ MB\n"
     ]
    }
   ],
   "source": [
    "df.info()"
   ]
  },
  {
   "cell_type": "markdown",
   "id": "bf1db4d4-1006-4dc0-930b-b55a4678dc09",
   "metadata": {},
   "source": [
    "Get all number columns and plot to check if there are outliers"
   ]
  },
  {
   "cell_type": "code",
   "execution_count": 31,
   "id": "e7680b92-acae-4765-a39c-daeff208b0b0",
   "metadata": {},
   "outputs": [
    {
     "data": {
      "image/png": "[encoded data removed]",
      "text/plain": [
       "<Figure size 640x480 with 1 Axes>"
      ]
     },
     "metadata": {},
     "output_type": "display_data"
    },
    {
     "data": {
      "image/png": "[encoded data removed]",
      "text/plain": [
       "<Figure size 640x480 with 1 Axes>"
      ]
     },
     "metadata": {},
     "output_type": "display_data"
    },
    {
     "data": {
      "image/png": "[encoded data removed]",
      "text/plain": [
       "<Figure size 640x480 with 1 Axes>"
      ]
     },
     "metadata": {},
     "output_type": "display_data"
    },
    {
     "data": {
      "image/png": "[encoded data removed]",
      "text/plain": [
       "<Figure size 640x480 with 1 Axes>"
      ]
     },
     "metadata": {},
     "output_type": "display_data"
    },
    {
     "data": {
      "image/png": "[encoded data removed]",
      "text/plain": [
       "<Figure size 640x480 with 1 Axes>"
      ]
     },
     "metadata": {},
     "output_type": "display_data"
    },
    {
     "data": {
      "image/png": "[encoded data removed]",
      "text/plain": [
       "<Figure size 640x480 with 1 Axes>"
      ]
     },
     "metadata": {},
     "output_type": "display_data"
    },
    {
     "data": {
      "image/png": "[encoded data removed]",
      "text/plain": [
       "<Figure size 640x480 with 1 Axes>"
      ]
     },
     "metadata": {},
     "output_type": "display_data"
    }
   ],
   "source": [
    "num_cols = df.select_dtypes(include=['number']).columns\n",
    "num_cols = num_cols.drop(['default',\n",
    "                         'delinq_2yrs',\n",
    "                         'open_acc',\n",
    "                         'pub_rec',\n",
    "                         ]\n",
    "                        )\n",
    "\n",
    "for col in num_cols:\n",
    "    plt.boxplot(df[col])\n",
    "    plt.title(\"Boxplot for Outlier Detection\")\n",
    "    plt.xlabel(col)\n",
    "    plt.show()"
   ]
  },
  {
   "cell_type": "code",
   "execution_count": 32,
   "id": "a60a7372-6a98-48c6-b860-0c02938a82e7",
   "metadata": {},
   "outputs": [],
   "source": [
    "# Fill outliers with upper and lower bound using IQR\n",
    "for col in num_cols:\n",
    "    Q1 = df[col].quantile(0.25)\n",
    "    Q3 = df[col].quantile(0.75)\n",
    "    IQR = Q3 - Q1\n",
    "    lower_bound = Q1 - 1.5 * IQR\n",
    "    upper_bound = Q3 + 1.5 * IQR\n",
    "    # Replace outliers: Lower ones with Q1, upper ones with Q3\n",
    "    df[col] = df[col].apply(lambda x: lower_bound if x < lower_bound else (upper_bound if x > upper_bound else x))"
   ]
  },
  {
   "cell_type": "code",
   "execution_count": 33,
   "id": "a40de3b6-e1e5-4867-971a-7976717428c2",
   "metadata": {},
   "outputs": [
    {
     "data": {
      "image/png": "[encoded data removed]",
      "text/plain": [
       "<Figure size 640x480 with 1 Axes>"
      ]
     },
     "metadata": {},
     "output_type": "display_data"
    },
    {
     "data": {
      "image/png": "[encoded data removed]",
      "text/plain": [
       "<Figure size 640x480 with 1 Axes>"
      ]
     },
     "metadata": {},
     "output_type": "display_data"
    },
    {
     "data": {
      "image/png": "[encoded data removed]",
      "text/plain": [
       "<Figure size 640x480 with 1 Axes>"
      ]
     },
     "metadata": {},
     "output_type": "display_data"
    },
    {
     "data": {
      "image/png": "[encoded data removed]",
      "text/plain": [
       "<Figure size 640x480 with 1 Axes>"
      ]
     },
     "metadata": {},
     "output_type": "display_data"
    },
    {
     "data": {
      "image/png": "[encoded data removed]",
      "text/plain": [
       "<Figure size 640x480 with 1 Axes>"
      ]
     },
     "metadata": {},
     "output_type": "display_data"
    },
    {
     "data": {
      "image/png": "[encoded data removed]",
      "text/plain": [
       "<Figure size 640x480 with 1 Axes>"
      ]
     },
     "metadata": {},
     "output_type": "display_data"
    },
    {
     "data": {
      "image/png": "[encoded data removed]",
      "text/plain": [
       "<Figure size 640x480 with 1 Axes>"
      ]
     },
     "metadata": {},
     "output_type": "display_data"
    }
   ],
   "source": [
    "num_cols = df.select_dtypes(include=['number']).columns\n",
    "num_cols = num_cols.drop(['default',\n",
    "                         'delinq_2yrs',\n",
    "                         'open_acc',\n",
    "                         'pub_rec',\n",
    "                         ]\n",
    "                        )\n",
    "\n",
    "for col in num_cols:\n",
    "    plt.boxplot(df[col])\n",
    "    plt.title(\"Boxplot for Outlier Detection\")\n",
    "    plt.xlabel(col)\n",
    "    plt.show()"
   ]
  },
  {
   "cell_type": "markdown",
   "id": "e596e7a6-c4c3-4a80-89d3-4c5e64a39318",
   "metadata": {},
   "source": [
    "## Data Transformation"
   ]
  },
  {
   "cell_type": "markdown",
   "id": "515e721a-0d8f-437d-94fb-1641117fd376",
   "metadata": {},
   "source": [
    "### Date Variables"
   ]
  },
  {
   "cell_type": "code",
   "execution_count": 34,
   "id": "71bc9d49-6b7f-469d-be8a-713c8821e496",
   "metadata": {},
   "outputs": [],
   "source": [
    "# Extract month and year from earliest_cr_line\n",
    "df[['earliest_cr_line_month', 'earliest_cr_line_year']] = df['earliest_cr_line'].str.split('-', expand=True)"
   ]
  },
  {
   "cell_type": "markdown",
   "id": "e19f952a-b994-4187-840b-c09b388c9a0f",
   "metadata": {},
   "source": [
    "### Categorical Variables"
   ]
  },
  {
   "cell_type": "code",
   "execution_count": 35,
   "id": "1f3a2a65-e3c1-4b46-851e-de37c89439e0",
   "metadata": {},
   "outputs": [
    {
     "data": {
      "text/html": [
       "<div>\n",
       "<style scoped>\n",
       "    .dataframe tbody tr th:only-of-type {\n",
       "        vertical-align: middle;\n",
       "    }\n",
       "\n",
       "    .dataframe tbody tr th {\n",
       "        vertical-align: top;\n",
       "    }\n",
       "\n",
       "    .dataframe thead th {\n",
       "        text-align: right;\n",
       "    }\n",
       "</style>\n",
       "<table border=\"1\" class=\"dataframe\">\n",
       "  <thead>\n",
       "    <tr style=\"text-align: right;\">\n",
       "      <th></th>\n",
       "      <th>term</th>\n",
       "      <th>grade</th>\n",
       "      <th>emp_title</th>\n",
       "      <th>emp_length</th>\n",
       "      <th>home_ownership</th>\n",
       "      <th>verification_status</th>\n",
       "      <th>purpose</th>\n",
       "      <th>zip_code</th>\n",
       "      <th>earliest_cr_line</th>\n",
       "      <th>earliest_cr_line_month</th>\n",
       "      <th>earliest_cr_line_year</th>\n",
       "    </tr>\n",
       "  </thead>\n",
       "  <tbody>\n",
       "    <tr>\n",
       "      <th>0</th>\n",
       "      <td>36 months</td>\n",
       "      <td>C</td>\n",
       "      <td>leadman</td>\n",
       "      <td>10+ years</td>\n",
       "      <td>MORTGAGE</td>\n",
       "      <td>Not Verified</td>\n",
       "      <td>debt_consolidation</td>\n",
       "      <td>190xx</td>\n",
       "      <td>Aug-2003</td>\n",
       "      <td>Aug</td>\n",
       "      <td>2003</td>\n",
       "    </tr>\n",
       "    <tr>\n",
       "      <th>1</th>\n",
       "      <td>36 months</td>\n",
       "      <td>C</td>\n",
       "      <td>Engineer</td>\n",
       "      <td>10+ years</td>\n",
       "      <td>MORTGAGE</td>\n",
       "      <td>Not Verified</td>\n",
       "      <td>small_business</td>\n",
       "      <td>577xx</td>\n",
       "      <td>Dec-1999</td>\n",
       "      <td>Dec</td>\n",
       "      <td>1999</td>\n",
       "    </tr>\n",
       "    <tr>\n",
       "      <th>2</th>\n",
       "      <td>60 months</td>\n",
       "      <td>B</td>\n",
       "      <td>truck driver</td>\n",
       "      <td>10+ years</td>\n",
       "      <td>MORTGAGE</td>\n",
       "      <td>Not Verified</td>\n",
       "      <td>home_improvement</td>\n",
       "      <td>605xx</td>\n",
       "      <td>Aug-2000</td>\n",
       "      <td>Aug</td>\n",
       "      <td>2000</td>\n",
       "    </tr>\n",
       "    <tr>\n",
       "      <th>4</th>\n",
       "      <td>60 months</td>\n",
       "      <td>F</td>\n",
       "      <td>Contract Specialist</td>\n",
       "      <td>3 years</td>\n",
       "      <td>MORTGAGE</td>\n",
       "      <td>Source Verified</td>\n",
       "      <td>major_purchase</td>\n",
       "      <td>174xx</td>\n",
       "      <td>Jun-1998</td>\n",
       "      <td>Jun</td>\n",
       "      <td>1998</td>\n",
       "    </tr>\n",
       "    <tr>\n",
       "      <th>5</th>\n",
       "      <td>36 months</td>\n",
       "      <td>C</td>\n",
       "      <td>Veterinary Tecnician</td>\n",
       "      <td>4 years</td>\n",
       "      <td>RENT</td>\n",
       "      <td>Source Verified</td>\n",
       "      <td>debt_consolidation</td>\n",
       "      <td>300xx</td>\n",
       "      <td>Oct-1987</td>\n",
       "      <td>Oct</td>\n",
       "      <td>1987</td>\n",
       "    </tr>\n",
       "  </tbody>\n",
       "</table>\n",
       "</div>"
      ],
      "text/plain": [
       "         term grade             emp_title emp_length home_ownership  \\\n",
       "0   36 months     C               leadman  10+ years       MORTGAGE   \n",
       "1   36 months     C              Engineer  10+ years       MORTGAGE   \n",
       "2   60 months     B          truck driver  10+ years       MORTGAGE   \n",
       "4   60 months     F   Contract Specialist    3 years       MORTGAGE   \n",
       "5   36 months     C  Veterinary Tecnician    4 years           RENT   \n",
       "\n",
       "  verification_status             purpose zip_code earliest_cr_line  \\\n",
       "0        Not Verified  debt_consolidation    190xx         Aug-2003   \n",
       "1        Not Verified      small_business    577xx         Dec-1999   \n",
       "2        Not Verified    home_improvement    605xx         Aug-2000   \n",
       "4     Source Verified      major_purchase    174xx         Jun-1998   \n",
       "5     Source Verified  debt_consolidation    300xx         Oct-1987   \n",
       "\n",
       "  earliest_cr_line_month earliest_cr_line_year  \n",
       "0                    Aug                  2003  \n",
       "1                    Dec                  1999  \n",
       "2                    Aug                  2000  \n",
       "4                    Jun                  1998  \n",
       "5                    Oct                  1987  "
      ]
     },
     "execution_count": 35,
     "metadata": {},
     "output_type": "execute_result"
    }
   ],
   "source": [
    "df.select_dtypes(include=['object']).head()"
   ]
  },
  {
   "cell_type": "code",
   "execution_count": 36,
   "id": "5fd9206b-f441-43ee-b610-dfdc22dbd174",
   "metadata": {},
   "outputs": [
    {
     "name": "stdout",
     "output_type": "stream",
     "text": [
      "zip_code\n",
      "Other    756442\n",
      "945xx      9816\n",
      "750xx      9587\n",
      "112xx      8860\n",
      "300xx      8161\n",
      "606xx      7903\n",
      "331xx      7444\n",
      "891xx      7360\n",
      "770xx      7012\n",
      "070xx      6842\n",
      "330xx      6761\n",
      "900xx      6582\n",
      "100xx      6362\n",
      "104xx      6287\n",
      "917xx      6158\n",
      "117xx      6102\n",
      "852xx      5791\n",
      "925xx      5428\n",
      "921xx      5229\n",
      "913xx      5106\n",
      "926xx      5018\n",
      "Name: count, dtype: int64\n"
     ]
    }
   ],
   "source": [
    "# zipcode >= 5000\n",
    "counts = df['zip_code'].value_counts()  # Count occurrences of each category\n",
    "df['zip_code'] = df['zip_code'].where(df['zip_code'].isin(counts[counts >= 5000].index), 'Other')\n",
    "print(df['zip_code'].value_counts())  # Check updated category distribution"
   ]
  },
  {
   "cell_type": "code",
   "execution_count": 37,
   "id": "4f4f99c9-1857-4b52-be9d-3559fd6a3e2c",
   "metadata": {},
   "outputs": [
    {
     "data": {
      "text/plain": [
       "['term',\n",
       " 'grade',\n",
       " 'emp_title',\n",
       " 'emp_length',\n",
       " 'home_ownership',\n",
       " 'verification_status',\n",
       " 'purpose',\n",
       " 'zip_code',\n",
       " 'earliest_cr_line',\n",
       " 'earliest_cr_line_month',\n",
       " 'earliest_cr_line_year']"
      ]
     },
     "execution_count": 37,
     "metadata": {},
     "output_type": "execute_result"
    }
   ],
   "source": [
    "# List cardinality\n",
    "categorical_variables = df.select_dtypes(include=['object']).columns.tolist()\n",
    "categorical_variables"
   ]
  },
  {
   "cell_type": "code",
   "execution_count": 38,
   "id": "281c30ff-23d3-45d6-9b66-2b6af1dff5be",
   "metadata": {},
   "outputs": [
    {
     "name": "stdout",
     "output_type": "stream",
     "text": [
      "onehot: ['term', 'grade', 'home_ownership', 'verification_status']\n",
      "other: ['emp_title', 'emp_length', 'purpose', 'zip_code', 'earliest_cr_line', 'earliest_cr_line_month', 'earliest_cr_line_year']\n"
     ]
    }
   ],
   "source": [
    "onehotencoding_list = []\n",
    "other = []\n",
    "\n",
    "for variable in categorical_variables:\n",
    "    if df[variable].nunique() <= 10:\n",
    "        onehotencoding_list.append(variable)\n",
    "    else:\n",
    "        other.append(variable)\n",
    "\n",
    "print(f'onehot: {onehotencoding_list}')\n",
    "print(f'other: {other}')"
   ]
  },
  {
   "cell_type": "markdown",
   "id": "ae6c5c98-2cc4-4f06-8892-b124764dbcea",
   "metadata": {},
   "source": [
    "#### Encoding Categorical Variables"
   ]
  },
  {
   "cell_type": "code",
   "execution_count": 39,
   "id": "a807cbf2-668e-45a4-8ebc-eae0fe824df3",
   "metadata": {},
   "outputs": [],
   "source": [
    "onehotencoding_list = ['term', \n",
    "                       'grade', \n",
    "                       'home_ownership', \n",
    "                       'verification_status', \n",
    "                       'earliest_cr_line_month',\n",
    "                       'earliest_cr_line_year'\n",
    "                      ]\n",
    "\n",
    "other = ['emp_title',\n",
    "         'zip_code', \n",
    "        'delinq_2yrs',\n",
    "        'emp_length',\n",
    "        'purpose',]"
   ]
  },
  {
   "cell_type": "markdown",
   "id": "20d5058c-5aa0-4719-a2c0-8a6dc3e04d2f",
   "metadata": {},
   "source": [
    "OneHotEncoder"
   ]
  },
  {
   "cell_type": "code",
   "execution_count": 40,
   "id": "98dfd80b-569d-426c-b010-a1bbc292d5cc",
   "metadata": {},
   "outputs": [],
   "source": [
    "from sklearn.preprocessing import OneHotEncoder\n",
    "\n",
    "# Separate features and target\n",
    "X = df.drop(columns=['default'])  # Features\n",
    "y = df['default']  # Target\n",
    "\n",
    "# One-hot encode categorical columns\n",
    "encoder = OneHotEncoder(drop='first', sparse_output=False)\n",
    "encoded_data = encoder.fit_transform(X[onehotencoding_list])\n",
    "\n",
    "# Create DataFrame with encoded values\n",
    "encoded_df = pd.DataFrame(encoded_data, columns=encoder.get_feature_names_out(onehotencoding_list))\n",
    "\n",
    "# Drop original categorical columns and concatenate encoded data\n",
    "df = pd.concat([df.drop(columns=onehotencoding_list).reset_index(drop=True), encoded_df], axis=1)\n",
    "\n",
    "# Ensure target is present\n",
    "df['default'] = y.values  \n",
    "\n",
    "# Fix column names after one-hot encoding\n",
    "df.columns = df.columns.astype(str).str.replace(r'[\\[\\]<>]', '', regex=True)"
   ]
  },
  {
   "cell_type": "markdown",
   "id": "90529695-ac07-45ef-a7ec-17a421eec315",
   "metadata": {},
   "source": [
    "Frequency encoding"
   ]
  },
  {
   "cell_type": "code",
   "execution_count": 41,
   "id": "fa93913f-1643-48e4-9b9d-e0ae67154a97",
   "metadata": {},
   "outputs": [],
   "source": [
    "# Frequency encoding\n",
    "for variable in other:\n",
    "    df[variable] = df[variable].map(df[variable].value_counts())"
   ]
  },
  {
   "cell_type": "markdown",
   "id": "3035c6ff-a076-43d2-851f-ea103aee8917",
   "metadata": {},
   "source": [
    "### Feature Scaling"
   ]
  },
  {
   "cell_type": "code",
   "execution_count": 42,
   "id": "584bd670-1a34-41e5-ac8a-ef8586ffbcb3",
   "metadata": {},
   "outputs": [],
   "source": [
    "from sklearn.preprocessing import StandardScaler\n",
    "\n",
    "# Variables scaling\n",
    "scaler = StandardScaler()\n",
    "\n",
    "cols_to_scale = ['loan_amnt',\n",
    "                 'int_rate',\n",
    "                 'annual_inc',\n",
    "                 'dti',\n",
    "                 'delinq_2yrs',\n",
    "                 'fico_range_low',\n",
    "                 'open_acc',\n",
    "                 'pub_rec',\n",
    "                 'revol_bal',\n",
    "                 'revol_util',\n",
    "                 'emp_title',\n",
    "                 'zip_code',\n",
    "                 'emp_length',\n",
    "                 'purpose'\n",
    "                ]\n",
    "df[cols_to_scale] = scaler.fit_transform(df[cols_to_scale])"
   ]
  },
  {
   "cell_type": "markdown",
   "id": "2b6f42bf-fd65-4db2-b4f1-9c9b8567dde8",
   "metadata": {},
   "source": [
    "### Train test split"
   ]
  },
  {
   "cell_type": "code",
   "execution_count": 43,
   "id": "884fc69a-fa87-4a53-a572-fab4975c7823",
   "metadata": {},
   "outputs": [],
   "source": [
    "# Split train dataset and test dataset based on issue date\n",
    "\n",
    "X_test = df[df['issue_d'] >= '2018-01-01'].drop(columns=['default']).reset_index(drop=True)\n",
    "y_test = df[df['issue_d'] >= '2018-01-01']['default'].reset_index(drop=True)\n",
    "\n",
    "X_train = df[(df[\"issue_d\"] >= '2015-01-01') & (df[\"issue_d\"] <= '2017-12-31')].drop(columns=['default'])\n",
    "y_train = df[(df[\"issue_d\"] >= '2015-01-01') & (df[\"issue_d\"] <= '2017-12-31')]['default']"
   ]
  },
  {
   "cell_type": "code",
   "execution_count": 44,
   "id": "d427f656-1e66-4b85-9361-673ed31fd045",
   "metadata": {},
   "outputs": [
    {
     "data": {
      "text/plain": [
       "29"
      ]
     },
     "execution_count": 44,
     "metadata": {},
     "output_type": "execute_result"
    }
   ],
   "source": [
    "# Reclaim memory\n",
    "gc.collect()"
   ]
  },
  {
   "cell_type": "code",
   "execution_count": 45,
   "id": "05789a1e-32b9-471a-b643-97f30941692a",
   "metadata": {},
   "outputs": [],
   "source": [
    "# Drop issue_d and earliest_cr_line\n",
    "date_variables= ['issue_d', 'earliest_cr_line']\n",
    "X_test = X_test.drop(columns=date_variables)\n",
    "X_train = X_train.drop(columns=date_variables)"
   ]
  },
  {
   "cell_type": "markdown",
   "id": "4d76b68a-f84d-4807-9300-6a4f2309de39",
   "metadata": {},
   "source": [
    "# Machine learning"
   ]
  },
  {
   "cell_type": "code",
   "execution_count": 46,
   "id": "b874edbf-0381-48d0-8e43-0f9b1d4cf123",
   "metadata": {},
   "outputs": [],
   "source": [
    "import xgboost as xgb\n",
    "from sklearn.model_selection import train_test_split, cross_validate\n",
    "from sklearn.metrics import accuracy_score\n",
    "from sklearn.metrics import make_scorer, recall_score, precision_score, f1_score, matthews_corrcoef\n",
    "from imblearn.metrics import geometric_mean_score  # G-Mean (for imbalanced data)\n",
    "from sklearn.model_selection import KFold, cross_val_score"
   ]
  },
  {
   "cell_type": "markdown",
   "id": "f70c3b5a-6f11-4f7c-81c9-d33c8216c44e",
   "metadata": {},
   "source": [
    "First, use K-Fold validation on training dataset"
   ]
  },
  {
   "cell_type": "code",
   "execution_count": 47,
   "id": "f94953a8-b29d-4d19-8223-36bd08330fb6",
   "metadata": {},
   "outputs": [
    {
     "name": "stdout",
     "output_type": "stream",
     "text": [
      "recall: Mean = 0.13098634941814438, Std = 0.0015012788974142358\n",
      "specificity: Mean = 0.9715424978291278, Std = 0.0007499055419615568\n",
      "f1: Mean = 0.21251246909972493, Std = 0.0017970531980183487\n",
      "gmean: Mean = 0.3567270545360454, Std = 0.0019387969950371098\n",
      "mcc: Mean = 0.19285842682129517, Std = 0.0016957831040553895\n"
     ]
    }
   ],
   "source": [
    "from sklearn.metrics import confusion_matrix\n",
    "\n",
    "# Model\n",
    "model = xgb.XGBClassifier(\n",
    "    objective='binary:logistic'  # Binary classification\n",
    ")\n",
    "\n",
    "# Initialize K-Fold (e.g., 5 folds)\n",
    "kf = KFold(n_splits=5, shuffle=True, random_state=42)\n",
    "\n",
    "def specificity_score(y_true, y_pred):\n",
    "    tn, fp, fn, tp = confusion_matrix(y_true, y_pred).ravel()\n",
    "    # print (tn / (tn + fp))\n",
    "    return tn / (tn + fp)  # True Negative Rate\n",
    "\n",
    "# Perform cross-validation and get scores\n",
    "scoring = {\n",
    "    'recall': make_scorer(recall_score),\n",
    "    'specificity': make_scorer(specificity_score),\n",
    "    'f1': make_scorer(f1_score),\n",
    "    'gmean': make_scorer(geometric_mean_score),\n",
    "    'mcc': make_scorer(matthews_corrcoef)\n",
    "}\n",
    "\n",
    "cv_results = cross_validate(model, X_train, y_train, cv=kf, scoring=scoring, return_train_score=False)\n",
    "\n",
    "# Print results\n",
    "for metric in scoring.keys():\n",
    "    print(f\"{metric}: Mean = {np.mean(cv_results[f'test_{metric}'])}, Std = {np.std(cv_results[f'test_{metric}'])}\")"
   ]
  },
  {
   "cell_type": "markdown",
   "id": "967361dd-3da2-428c-bd46-9d14b4f646fb",
   "metadata": {},
   "source": [
    "The result shows that the model prediction is stable. We can use all train dataset for the training phase."
   ]
  },
  {
   "cell_type": "code",
   "execution_count": 48,
   "id": "fe956e85-349b-4ca0-8559-55034a554061",
   "metadata": {},
   "outputs": [
    {
     "data": {
      "text/html": [
       "<style>#sk-container-id-1 {\n",
       "  /* Definition of color scheme common for light and dark mode */\n",
       "  --sklearn-color-text: #000;\n",
       "  --sklearn-color-text-muted: #666;\n",
       "  --sklearn-color-line: gray;\n",
       "  /* Definition of color scheme for unfitted estimators */\n",
       "  --sklearn-color-unfitted-level-0: #fff5e6;\n",
       "  --sklearn-color-unfitted-level-1: #f6e4d2;\n",
       "  --sklearn-color-unfitted-level-2: #ffe0b3;\n",
       "  --sklearn-color-unfitted-level-3: chocolate;\n",
       "  /* Definition of color scheme for fitted estimators */\n",
       "  --sklearn-color-fitted-level-0: #f0f8ff;\n",
       "  --sklearn-color-fitted-level-1: #d4ebff;\n",
       "  --sklearn-color-fitted-level-2: #b3dbfd;\n",
       "  --sklearn-color-fitted-level-3: cornflowerblue;\n",
       "\n",
       "  /* Specific color for light theme */\n",
       "  --sklearn-color-text-on-default-background: var(--sg-text-color, var(--theme-code-foreground, var(--jp-content-font-color1, black)));\n",
       "  --sklearn-color-background: var(--sg-background-color, var(--theme-background, var(--jp-layout-color0, white)));\n",
       "  --sklearn-color-border-box: var(--sg-text-color, var(--theme-code-foreground, var(--jp-content-font-color1, black)));\n",
       "  --sklearn-color-icon: #696969;\n",
       "\n",
       "  @media (prefers-color-scheme: dark) {\n",
       "    /* Redefinition of color scheme for dark theme */\n",
       "    --sklearn-color-text-on-default-background: var(--sg-text-color, var(--theme-code-foreground, var(--jp-content-font-color1, white)));\n",
       "    --sklearn-color-background: var(--sg-background-color, var(--theme-background, var(--jp-layout-color0, #111)));\n",
       "    --sklearn-color-border-box: var(--sg-text-color, var(--theme-code-foreground, var(--jp-content-font-color1, white)));\n",
       "    --sklearn-color-icon: #878787;\n",
       "  }\n",
       "}\n",
       "\n",
       "#sk-container-id-1 {\n",
       "  color: var(--sklearn-color-text);\n",
       "}\n",
       "\n",
       "#sk-container-id-1 pre {\n",
       "  padding: 0;\n",
       "}\n",
       "\n",
       "#sk-container-id-1 input.sk-hidden--visually {\n",
       "  border: 0;\n",
       "  clip: rect(1px 1px 1px 1px);\n",
       "  clip: rect(1px, 1px, 1px, 1px);\n",
       "  height: 1px;\n",
       "  margin: -1px;\n",
       "  overflow: hidden;\n",
       "  padding: 0;\n",
       "  position: absolute;\n",
       "  width: 1px;\n",
       "}\n",
       "\n",
       "#sk-container-id-1 div.sk-dashed-wrapped {\n",
       "  border: 1px dashed var(--sklearn-color-line);\n",
       "  margin: 0 0.4em 0.5em 0.4em;\n",
       "  box-sizing: border-box;\n",
       "  padding-bottom: 0.4em;\n",
       "  background-color: var(--sklearn-color-background);\n",
       "}\n",
       "\n",
       "#sk-container-id-1 div.sk-container {\n",
       "  /* jupyter's `normalize.less` sets `[hidden] { display: none; }`\n",
       "     but bootstrap.min.css set `[hidden] { display: none !important; }`\n",
       "     so we also need the `!important` here to be able to override the\n",
       "     default hidden behavior on the sphinx rendered scikit-learn.org.\n",
       "     See: https://github.com/scikit-learn/scikit-learn/issues/21755 */\n",
       "  display: inline-block !important;\n",
       "  position: relative;\n",
       "}\n",
       "\n",
       "#sk-container-id-1 div.sk-text-repr-fallback {\n",
       "  display: none;\n",
       "}\n",
       "\n",
       "div.sk-parallel-item,\n",
       "div.sk-serial,\n",
       "div.sk-item {\n",
       "  /* draw centered vertical line to link estimators */\n",
       "  background-image: linear-gradient(var(--sklearn-color-text-on-default-background), var(--sklearn-color-text-on-default-background));\n",
       "  background-size: 2px 100%;\n",
       "  background-repeat: no-repeat;\n",
       "  background-position: center center;\n",
       "}\n",
       "\n",
       "/* Parallel-specific style estimator block */\n",
       "\n",
       "#sk-container-id-1 div.sk-parallel-item::after {\n",
       "  content: \"\";\n",
       "  width: 100%;\n",
       "  border-bottom: 2px solid var(--sklearn-color-text-on-default-background);\n",
       "  flex-grow: 1;\n",
       "}\n",
       "\n",
       "#sk-container-id-1 div.sk-parallel {\n",
       "  display: flex;\n",
       "  align-items: stretch;\n",
       "  justify-content: center;\n",
       "  background-color: var(--sklearn-color-background);\n",
       "  position: relative;\n",
       "}\n",
       "\n",
       "#sk-container-id-1 div.sk-parallel-item {\n",
       "  display: flex;\n",
       "  flex-direction: column;\n",
       "}\n",
       "\n",
       "#sk-container-id-1 div.sk-parallel-item:first-child::after {\n",
       "  align-self: flex-end;\n",
       "  width: 50%;\n",
       "}\n",
       "\n",
       "#sk-container-id-1 div.sk-parallel-item:last-child::after {\n",
       "  align-self: flex-start;\n",
       "  width: 50%;\n",
       "}\n",
       "\n",
       "#sk-container-id-1 div.sk-parallel-item:only-child::after {\n",
       "  width: 0;\n",
       "}\n",
       "\n",
       "/* Serial-specific style estimator block */\n",
       "\n",
       "#sk-container-id-1 div.sk-serial {\n",
       "  display: flex;\n",
       "  flex-direction: column;\n",
       "  align-items: center;\n",
       "  background-color: var(--sklearn-color-background);\n",
       "  padding-right: 1em;\n",
       "  padding-left: 1em;\n",
       "}\n",
       "\n",
       "\n",
       "/* Toggleable style: style used for estimator/Pipeline/ColumnTransformer box that is\n",
       "clickable and can be expanded/collapsed.\n",
       "- Pipeline and ColumnTransformer use this feature and define the default style\n",
       "- Estimators will overwrite some part of the style using the `sk-estimator` class\n",
       "*/\n",
       "\n",
       "/* Pipeline and ColumnTransformer style (default) */\n",
       "\n",
       "#sk-container-id-1 div.sk-toggleable {\n",
       "  /* Default theme specific background. It is overwritten whether we have a\n",
       "  specific estimator or a Pipeline/ColumnTransformer */\n",
       "  background-color: var(--sklearn-color-background);\n",
       "}\n",
       "\n",
       "/* Toggleable label */\n",
       "#sk-container-id-1 label.sk-toggleable__label {\n",
       "  cursor: pointer;\n",
       "  display: flex;\n",
       "  width: 100%;\n",
       "  margin-bottom: 0;\n",
       "  padding: 0.5em;\n",
       "  box-sizing: border-box;\n",
       "  text-align: center;\n",
       "  align-items: start;\n",
       "  justify-content: space-between;\n",
       "  gap: 0.5em;\n",
       "}\n",
       "\n",
       "#sk-container-id-1 label.sk-toggleable__label .caption {\n",
       "  font-size: 0.6rem;\n",
       "  font-weight: lighter;\n",
       "  color: var(--sklearn-color-text-muted);\n",
       "}\n",
       "\n",
       "#sk-container-id-1 label.sk-toggleable__label-arrow:before {\n",
       "  /* Arrow on the left of the label */\n",
       "  content: \"▸\";\n",
       "  float: left;\n",
       "  margin-right: 0.25em;\n",
       "  color: var(--sklearn-color-icon);\n",
       "}\n",
       "\n",
       "#sk-container-id-1 label.sk-toggleable__label-arrow:hover:before {\n",
       "  color: var(--sklearn-color-text);\n",
       "}\n",
       "\n",
       "/* Toggleable content - dropdown */\n",
       "\n",
       "#sk-container-id-1 div.sk-toggleable__content {\n",
       "  max-height: 0;\n",
       "  max-width: 0;\n",
       "  overflow: hidden;\n",
       "  text-align: left;\n",
       "  /* unfitted */\n",
       "  background-color: var(--sklearn-color-unfitted-level-0);\n",
       "}\n",
       "\n",
       "#sk-container-id-1 div.sk-toggleable__content.fitted {\n",
       "  /* fitted */\n",
       "  background-color: var(--sklearn-color-fitted-level-0);\n",
       "}\n",
       "\n",
       "#sk-container-id-1 div.sk-toggleable__content pre {\n",
       "  margin: 0.2em;\n",
       "  border-radius: 0.25em;\n",
       "  color: var(--sklearn-color-text);\n",
       "  /* unfitted */\n",
       "  background-color: var(--sklearn-color-unfitted-level-0);\n",
       "}\n",
       "\n",
       "#sk-container-id-1 div.sk-toggleable__content.fitted pre {\n",
       "  /* unfitted */\n",
       "  background-color: var(--sklearn-color-fitted-level-0);\n",
       "}\n",
       "\n",
       "#sk-container-id-1 input.sk-toggleable__control:checked~div.sk-toggleable__content {\n",
       "  /* Expand drop-down */\n",
       "  max-height: 200px;\n",
       "  max-width: 100%;\n",
       "  overflow: auto;\n",
       "}\n",
       "\n",
       "#sk-container-id-1 input.sk-toggleable__control:checked~label.sk-toggleable__label-arrow:before {\n",
       "  content: \"▾\";\n",
       "}\n",
       "\n",
       "/* Pipeline/ColumnTransformer-specific style */\n",
       "\n",
       "#sk-container-id-1 div.sk-label input.sk-toggleable__control:checked~label.sk-toggleable__label {\n",
       "  color: var(--sklearn-color-text);\n",
       "  background-color: var(--sklearn-color-unfitted-level-2);\n",
       "}\n",
       "\n",
       "#sk-container-id-1 div.sk-label.fitted input.sk-toggleable__control:checked~label.sk-toggleable__label {\n",
       "  background-color: var(--sklearn-color-fitted-level-2);\n",
       "}\n",
       "\n",
       "/* Estimator-specific style */\n",
       "\n",
       "/* Colorize estimator box */\n",
       "#sk-container-id-1 div.sk-estimator input.sk-toggleable__control:checked~label.sk-toggleable__label {\n",
       "  /* unfitted */\n",
       "  background-color: var(--sklearn-color-unfitted-level-2);\n",
       "}\n",
       "\n",
       "#sk-container-id-1 div.sk-estimator.fitted input.sk-toggleable__control:checked~label.sk-toggleable__label {\n",
       "  /* fitted */\n",
       "  background-color: var(--sklearn-color-fitted-level-2);\n",
       "}\n",
       "\n",
       "#sk-container-id-1 div.sk-label label.sk-toggleable__label,\n",
       "#sk-container-id-1 div.sk-label label {\n",
       "  /* The background is the default theme color */\n",
       "  color: var(--sklearn-color-text-on-default-background);\n",
       "}\n",
       "\n",
       "/* On hover, darken the color of the background */\n",
       "#sk-container-id-1 div.sk-label:hover label.sk-toggleable__label {\n",
       "  color: var(--sklearn-color-text);\n",
       "  background-color: var(--sklearn-color-unfitted-level-2);\n",
       "}\n",
       "\n",
       "/* Label box, darken color on hover, fitted */\n",
       "#sk-container-id-1 div.sk-label.fitted:hover label.sk-toggleable__label.fitted {\n",
       "  color: var(--sklearn-color-text);\n",
       "  background-color: var(--sklearn-color-fitted-level-2);\n",
       "}\n",
       "\n",
       "/* Estimator label */\n",
       "\n",
       "#sk-container-id-1 div.sk-label label {\n",
       "  font-family: monospace;\n",
       "  font-weight: bold;\n",
       "  display: inline-block;\n",
       "  line-height: 1.2em;\n",
       "}\n",
       "\n",
       "#sk-container-id-1 div.sk-label-container {\n",
       "  text-align: center;\n",
       "}\n",
       "\n",
       "/* Estimator-specific */\n",
       "#sk-container-id-1 div.sk-estimator {\n",
       "  font-family: monospace;\n",
       "  border: 1px dotted var(--sklearn-color-border-box);\n",
       "  border-radius: 0.25em;\n",
       "  box-sizing: border-box;\n",
       "  margin-bottom: 0.5em;\n",
       "  /* unfitted */\n",
       "  background-color: var(--sklearn-color-unfitted-level-0);\n",
       "}\n",
       "\n",
       "#sk-container-id-1 div.sk-estimator.fitted {\n",
       "  /* fitted */\n",
       "  background-color: var(--sklearn-color-fitted-level-0);\n",
       "}\n",
       "\n",
       "/* on hover */\n",
       "#sk-container-id-1 div.sk-estimator:hover {\n",
       "  /* unfitted */\n",
       "  background-color: var(--sklearn-color-unfitted-level-2);\n",
       "}\n",
       "\n",
       "#sk-container-id-1 div.sk-estimator.fitted:hover {\n",
       "  /* fitted */\n",
       "  background-color: var(--sklearn-color-fitted-level-2);\n",
       "}\n",
       "\n",
       "/* Specification for estimator info (e.g. \"i\" and \"?\") */\n",
       "\n",
       "/* Common style for \"i\" and \"?\" */\n",
       "\n",
       ".sk-estimator-doc-link,\n",
       "a:link.sk-estimator-doc-link,\n",
       "a:visited.sk-estimator-doc-link {\n",
       "  float: right;\n",
       "  font-size: smaller;\n",
       "  line-height: 1em;\n",
       "  font-family: monospace;\n",
       "  background-color: var(--sklearn-color-background);\n",
       "  border-radius: 1em;\n",
       "  height: 1em;\n",
       "  width: 1em;\n",
       "  text-decoration: none !important;\n",
       "  margin-left: 0.5em;\n",
       "  text-align: center;\n",
       "  /* unfitted */\n",
       "  border: var(--sklearn-color-unfitted-level-1) 1pt solid;\n",
       "  color: var(--sklearn-color-unfitted-level-1);\n",
       "}\n",
       "\n",
       ".sk-estimator-doc-link.fitted,\n",
       "a:link.sk-estimator-doc-link.fitted,\n",
       "a:visited.sk-estimator-doc-link.fitted {\n",
       "  /* fitted */\n",
       "  border: var(--sklearn-color-fitted-level-1) 1pt solid;\n",
       "  color: var(--sklearn-color-fitted-level-1);\n",
       "}\n",
       "\n",
       "/* On hover */\n",
       "div.sk-estimator:hover .sk-estimator-doc-link:hover,\n",
       ".sk-estimator-doc-link:hover,\n",
       "div.sk-label-container:hover .sk-estimator-doc-link:hover,\n",
       ".sk-estimator-doc-link:hover {\n",
       "  /* unfitted */\n",
       "  background-color: var(--sklearn-color-unfitted-level-3);\n",
       "  color: var(--sklearn-color-background);\n",
       "  text-decoration: none;\n",
       "}\n",
       "\n",
       "div.sk-estimator.fitted:hover .sk-estimator-doc-link.fitted:hover,\n",
       ".sk-estimator-doc-link.fitted:hover,\n",
       "div.sk-label-container:hover .sk-estimator-doc-link.fitted:hover,\n",
       ".sk-estimator-doc-link.fitted:hover {\n",
       "  /* fitted */\n",
       "  background-color: var(--sklearn-color-fitted-level-3);\n",
       "  color: var(--sklearn-color-background);\n",
       "  text-decoration: none;\n",
       "}\n",
       "\n",
       "/* Span, style for the box shown on hovering the info icon */\n",
       ".sk-estimator-doc-link span {\n",
       "  display: none;\n",
       "  z-index: 9999;\n",
       "  position: relative;\n",
       "  font-weight: normal;\n",
       "  right: .2ex;\n",
       "  padding: .5ex;\n",
       "  margin: .5ex;\n",
       "  width: min-content;\n",
       "  min-width: 20ex;\n",
       "  max-width: 50ex;\n",
       "  color: var(--sklearn-color-text);\n",
       "  box-shadow: 2pt 2pt 4pt #999;\n",
       "  /* unfitted */\n",
       "  background: var(--sklearn-color-unfitted-level-0);\n",
       "  border: .5pt solid var(--sklearn-color-unfitted-level-3);\n",
       "}\n",
       "\n",
       ".sk-estimator-doc-link.fitted span {\n",
       "  /* fitted */\n",
       "  background: var(--sklearn-color-fitted-level-0);\n",
       "  border: var(--sklearn-color-fitted-level-3);\n",
       "}\n",
       "\n",
       ".sk-estimator-doc-link:hover span {\n",
       "  display: block;\n",
       "}\n",
       "\n",
       "/* \"?\"-specific style due to the `<a>` HTML tag */\n",
       "\n",
       "#sk-container-id-1 a.estimator_doc_link {\n",
       "  float: right;\n",
       "  font-size: 1rem;\n",
       "  line-height: 1em;\n",
       "  font-family: monospace;\n",
       "  background-color: var(--sklearn-color-background);\n",
       "  border-radius: 1rem;\n",
       "  height: 1rem;\n",
       "  width: 1rem;\n",
       "  text-decoration: none;\n",
       "  /* unfitted */\n",
       "  color: var(--sklearn-color-unfitted-level-1);\n",
       "  border: var(--sklearn-color-unfitted-level-1) 1pt solid;\n",
       "}\n",
       "\n",
       "#sk-container-id-1 a.estimator_doc_link.fitted {\n",
       "  /* fitted */\n",
       "  border: var(--sklearn-color-fitted-level-1) 1pt solid;\n",
       "  color: var(--sklearn-color-fitted-level-1);\n",
       "}\n",
       "\n",
       "/* On hover */\n",
       "#sk-container-id-1 a.estimator_doc_link:hover {\n",
       "  /* unfitted */\n",
       "  background-color: var(--sklearn-color-unfitted-level-3);\n",
       "  color: var(--sklearn-color-background);\n",
       "  text-decoration: none;\n",
       "}\n",
       "\n",
       "#sk-container-id-1 a.estimator_doc_link.fitted:hover {\n",
       "  /* fitted */\n",
       "  background-color: var(--sklearn-color-fitted-level-3);\n",
       "}\n",
       "</style><div id=\"sk-container-id-1\" class=\"sk-top-container\"><div class=\"sk-text-repr-fallback\"><pre>XGBClassifier(base_score=None, booster=None, callbacks=None,\n",
       "              colsample_bylevel=None, colsample_bynode=None,\n",
       "              colsample_bytree=None, device=None, early_stopping_rounds=None,\n",
       "              enable_categorical=False, eval_metric=None, feature_types=None,\n",
       "              gamma=None, grow_policy=None, importance_type=None,\n",
       "              interaction_constraints=None, learning_rate=None, max_bin=None,\n",
       "              max_cat_threshold=None, max_cat_to_onehot=None,\n",
       "              max_delta_step=None, max_depth=None, max_leaves=None,\n",
       "              min_child_weight=None, missing=nan, monotone_constraints=None,\n",
       "              multi_strategy=None, n_estimators=None, n_jobs=None,\n",
       "              num_parallel_tree=None, random_state=None, ...)</pre><b>In a Jupyter environment, please rerun this cell to show the HTML representation or trust the notebook. <br />On GitHub, the HTML representation is unable to render, please try loading this page with nbviewer.org.</b></div><div class=\"sk-container\" hidden><div class=\"sk-item\"><div class=\"sk-estimator fitted sk-toggleable\"><input class=\"sk-toggleable__control sk-hidden--visually\" id=\"sk-estimator-id-1\" type=\"checkbox\" checked><label for=\"sk-estimator-id-1\" class=\"sk-toggleable__label fitted sk-toggleable__label-arrow\"><div><div>XGBClassifier</div></div><div><span class=\"sk-estimator-doc-link fitted\">i<span>Fitted</span></span></div></label><div class=\"sk-toggleable__content fitted\"><pre>XGBClassifier(base_score=None, booster=None, callbacks=None,\n",
       "              colsample_bylevel=None, colsample_bynode=None,\n",
       "              colsample_bytree=None, device=None, early_stopping_rounds=None,\n",
       "              enable_categorical=False, eval_metric=None, feature_types=None,\n",
       "              gamma=None, grow_policy=None, importance_type=None,\n",
       "              interaction_constraints=None, learning_rate=None, max_bin=None,\n",
       "              max_cat_threshold=None, max_cat_to_onehot=None,\n",
       "              max_delta_step=None, max_depth=None, max_leaves=None,\n",
       "              min_child_weight=None, missing=nan, monotone_constraints=None,\n",
       "              multi_strategy=None, n_estimators=None, n_jobs=None,\n",
       "              num_parallel_tree=None, random_state=None, ...)</pre></div> </div></div></div></div>"
      ],
      "text/plain": [
       "XGBClassifier(base_score=None, booster=None, callbacks=None,\n",
       "              colsample_bylevel=None, colsample_bynode=None,\n",
       "              colsample_bytree=None, device=None, early_stopping_rounds=None,\n",
       "              enable_categorical=False, eval_metric=None, feature_types=None,\n",
       "              gamma=None, grow_policy=None, importance_type=None,\n",
       "              interaction_constraints=None, learning_rate=None, max_bin=None,\n",
       "              max_cat_threshold=None, max_cat_to_onehot=None,\n",
       "              max_delta_step=None, max_depth=None, max_leaves=None,\n",
       "              min_child_weight=None, missing=nan, monotone_constraints=None,\n",
       "              multi_strategy=None, n_estimators=None, n_jobs=None,\n",
       "              num_parallel_tree=None, random_state=None, ...)"
      ]
     },
     "execution_count": 48,
     "metadata": {},
     "output_type": "execute_result"
    }
   ],
   "source": [
    "# Initialize XGBoost classifier\n",
    "model = xgb.XGBClassifier(\n",
    "    objective='binary:logistic',  # Binary classification\n",
    ")\n",
    "\n",
    "# Train the model\n",
    "model.fit(X_train, y_train)"
   ]
  },
  {
   "cell_type": "code",
   "execution_count": 49,
   "id": "dcb2617b-7c77-4176-8c0b-0cc1e96069b9",
   "metadata": {},
   "outputs": [],
   "source": [
    "# Predict class labels (0 or 1)\n",
    "y_test_pred = model.predict(X_test)\n",
    "\n",
    "# Predict probabilities for each class\n",
    "y_test_pred_proba = model.predict_proba(X_test)[:, 1]  # Probabilities for class 1\n"
   ]
  },
  {
   "cell_type": "code",
   "execution_count": 50,
   "id": "3db77ebd-b648-4735-95f5-0aaa86d93757",
   "metadata": {},
   "outputs": [],
   "source": [
    "from sklearn.metrics import confusion_matrix, recall_score, precision_score, f1_score, matthews_corrcoef\n",
    "\n",
    "def evaluate_model(y_true, y_prob, threshold):\n",
    "    \"\"\"\n",
    "    Evaluates the model using various performance metrics after applying the optimal threshold.\n",
    "\n",
    "    Parameters:\n",
    "    - y_true: Ground truth labels (0 or 1)\n",
    "    - y_prob: Predicted probabilities\n",
    "    - threshold: Optimal threshold for classification\n",
    "\n",
    "    Returns:\n",
    "    - A dictionary containing evaluation metrics: MCC, Specificity, Recall, G-Mean, and F1-Score.\n",
    "    \"\"\"\n",
    "    # Apply threshold to get final predictions\n",
    "    y_pred = (y_prob >= threshold).astype(int)\n",
    "\n",
    "    # Compute Confusion Matrix\n",
    "    tn, fp, fn, tp = confusion_matrix(y_true, y_pred).ravel()\n",
    "\n",
    "    # Compute Metrics\n",
    "    recall = recall_score(y_true, y_pred)  # Sensitivity / TPR\n",
    "    specificity = tn / (tn + fp)  # True Negative Rate / TNR\n",
    "    f1 = f1_score(y_true, y_pred)  # F-Measure\n",
    "    g_mean = np.sqrt(recall * specificity)  # Geometric Mean\n",
    "    mcc = matthews_corrcoef(y_true, y_pred)  # Matthews Correlation Coefficient\n",
    "\n",
    "    # Output\n",
    "    print(\"Recall (Sensitivity)\", recall)\n",
    "    print(\"Specificity (TNR)\", specificity)\n",
    "    print(\"F1-Score\", f1)\n",
    "    print(\"G-Mean\", g_mean)\n",
    "    print(\"MCC\", mcc)"
   ]
  },
  {
   "cell_type": "markdown",
   "id": "f3cb9b09-8a10-4e86-9482-23f4b40a0a3d",
   "metadata": {},
   "source": [
    "The result with no rebalance techique used"
   ]
  },
  {
   "cell_type": "code",
   "execution_count": 51,
   "id": "af3a5a59-624a-42e3-9f20-580947dac398",
   "metadata": {},
   "outputs": [
    {
     "name": "stdout",
     "output_type": "stream",
     "text": [
      "None:\n",
      "Recall (Sensitivity) 0.13251381527010261\n",
      "Specificity (TNR) 0.9665500379394655\n",
      "F1-Score 0.20208100438558776\n",
      "G-Mean 0.3578843852095548\n",
      "MCC 0.16707316489807678\n"
     ]
    }
   ],
   "source": [
    "print(\"None:\")\n",
    "evaluate_model(y_test, y_test_pred_proba, 0.5)"
   ]
  },
  {
   "cell_type": "code",
   "execution_count": 52,
   "id": "187c0bc3-a32d-43d7-809b-36f82b51013a",
   "metadata": {},
   "outputs": [
    {
     "name": "stdout",
     "output_type": "stream",
     "text": [
      "                        Feature  Importance\n",
      "1                      int_rate    0.211621\n",
      "14              term_ 60 months    0.070522\n",
      "24          home_ownership_RENT    0.067459\n",
      "21      home_ownership_MORTGAGE    0.045189\n",
      "17                      grade_D    0.030574\n",
      "..                          ...         ...\n",
      "45   earliest_cr_line_year_1954    0.000000\n",
      "44   earliest_cr_line_year_1953    0.000000\n",
      "52   earliest_cr_line_year_1961    0.000000\n",
      "49   earliest_cr_line_year_1958    0.000000\n",
      "106  earliest_cr_line_year_2015    0.000000\n",
      "\n",
      "[107 rows x 2 columns]\n"
     ]
    }
   ],
   "source": [
    "# Get feature importance\n",
    "importance = model.feature_importances_\n",
    "\n",
    "# Create a DataFrame for better display\n",
    "feature_importance = pd.DataFrame({'Feature': X_train.columns, 'Importance': importance})\n",
    "feature_importance = feature_importance.sort_values(by='Importance', ascending=False)\n",
    "\n",
    "print(feature_importance)"
   ]
  },
  {
   "cell_type": "markdown",
   "id": "56251226-6f74-4395-9a72-1c72fd70bd44",
   "metadata": {},
   "source": [
    "### Threshold Optimization"
   ]
  },
  {
   "cell_type": "markdown",
   "id": "03286098-3521-424a-bf97-61a240f53f6a",
   "metadata": {},
   "source": [
    "#### Mathew Correlation"
   ]
  },
  {
   "cell_type": "code",
   "execution_count": 53,
   "id": "b343a404-1449-43db-8825-dde4f5e6d2f1",
   "metadata": {},
   "outputs": [],
   "source": [
    "from sklearn.metrics import matthews_corrcoef\n",
    "\n",
    "from sklearn.metrics import roc_curve\n",
    "\n",
    "def best_threshold_mcc(y_true, y_prob, c=False):\n",
    "    \"\"\"Finds the best classification threshold using MCC.\"\"\"\n",
    "    fprs, tprs, thresholds = roc_curve(y_true, y_prob)\n",
    "    tnrs = 1 - fprs\n",
    "    mcc_scores = []\n",
    "\n",
    "    for threshold in thresholds:\n",
    "        y_pred = (y_prob >= threshold).astype(int)  # Convert probabilities to binary predictions\n",
    "        mcc_scores.append(matthews_corrcoef(y_true, y_pred))\n",
    "\n",
    "    mcc_scores = np.array(mcc_scores)\n",
    "\n",
    "    # Apply constraint: Only consider thresholds where TPR >= TNR\n",
    "    if c:\n",
    "        mask = tprs >= tnrs\n",
    "        mcc_scores = mcc_scores[mask]\n",
    "        thresholds = thresholds[mask]\n",
    "\n",
    "    # Find the best MCC threshold\n",
    "    best_idx = np.argmax(mcc_scores)  # Get index of max MCC\n",
    "    return thresholds[best_idx], mcc_scores[best_idx]"
   ]
  },
  {
   "cell_type": "markdown",
   "id": "16ea6f77-b3f0-4a8e-a29e-c4f909b28429",
   "metadata": {},
   "source": [
    "MCC with no constraint"
   ]
  },
  {
   "cell_type": "code",
   "execution_count": 54,
   "id": "fd2f23b4-fa18-45d0-9f4f-0dcab1b4e264",
   "metadata": {},
   "outputs": [
    {
     "name": "stdout",
     "output_type": "stream",
     "text": [
      "Best Threshold: 0.28993934\n",
      "Best MCC Score: 0.23425344081169622\n"
     ]
    }
   ],
   "source": [
    "best_thresh, best_mcc = best_threshold_mcc(y_test, y_test_pred_proba)\n",
    "print(\"Best Threshold:\", best_thresh)\n",
    "print(\"Best MCC Score:\", best_mcc)"
   ]
  },
  {
   "cell_type": "code",
   "execution_count": 55,
   "id": "ad256628-a8ed-4329-9c36-3b5137473c8b",
   "metadata": {},
   "outputs": [
    {
     "name": "stdout",
     "output_type": "stream",
     "text": [
      "Mathew correlation:\n",
      "Recall (Sensitivity) 0.5324235930980038\n",
      "Specificity (TNR) 0.7585785346935334\n",
      "F1-Score 0.377046561776216\n",
      "G-Mean 0.6355195583839649\n",
      "MCC 0.23425344081169622\n"
     ]
    }
   ],
   "source": [
    "print(\"Mathew correlation:\")\n",
    "evaluate_model(y_test, y_test_pred_proba, best_thresh)"
   ]
  },
  {
   "cell_type": "markdown",
   "id": "2d583c0c-30a9-458f-8e68-a4fb2b7bb230",
   "metadata": {},
   "source": [
    "MCC with constraint"
   ]
  },
  {
   "cell_type": "code",
   "execution_count": 56,
   "id": "9eb203f3-91ac-4348-be76-6e4a59e639ad",
   "metadata": {},
   "outputs": [
    {
     "name": "stdout",
     "output_type": "stream",
     "text": [
      "Best Threshold: 0.2331149\n",
      "Best MCC Score: 0.22951532491888263\n"
     ]
    }
   ],
   "source": [
    "best_thresh, best_mcc = best_threshold_mcc(y_test, y_test_pred_proba, True)\n",
    "print(\"Best Threshold:\", best_thresh)\n",
    "print(\"Best MCC Score:\", best_mcc)"
   ]
  },
  {
   "cell_type": "code",
   "execution_count": 57,
   "id": "a86b62c4-a1c6-49f0-bcae-96e4bab88456",
   "metadata": {},
   "outputs": [
    {
     "name": "stdout",
     "output_type": "stream",
     "text": [
      "Mathew correlation with constrain:\n",
      "Recall (Sensitivity) 0.6554640802977332\n",
      "Specificity (TNR) 0.6526852710564034\n",
      "F1-Score 0.3730782809641493\n",
      "G-Mean 0.6540731999683691\n",
      "MCC 0.22951532491888263\n"
     ]
    }
   ],
   "source": [
    "print(\"Mathew correlation with constrain:\")\n",
    "evaluate_model(y_test, y_test_pred_proba, best_thresh)"
   ]
  },
  {
   "cell_type": "markdown",
   "id": "c337eed1-ce12-4705-ad93-592cad452bb9",
   "metadata": {},
   "source": [
    "#### G-mean"
   ]
  },
  {
   "cell_type": "code",
   "execution_count": 58,
   "id": "2c574bb2-5215-4ffe-a98f-c1f7c2ee48c5",
   "metadata": {},
   "outputs": [],
   "source": [
    "from sklearn.metrics import roc_curve\n",
    "\n",
    "def best_threshold_gmean(y_true, y_prob, c=False):\n",
    "    \"\"\"\n",
    "    Find the best classification threshold using Geometric Mean (G-Mean).\n",
    "    If c=True, only consider thresholds where TPR >= TNR.\n",
    "    \n",
    "    Parameters:\n",
    "    - y_true: Ground truth labels (binary: 0 or 1)\n",
    "    - y_prob: Predicted probabilities\n",
    "    - c: Constraint flag (default=False). If True, only use thresholds where TPR >= TNR.\n",
    "    \n",
    "    Returns:\n",
    "    - optimal_threshold: Best threshold maximizing G-Mean\n",
    "    - best_gmean: The corresponding G-Mean score\n",
    "    \"\"\"\n",
    "    fprs, tprs, thresholds = roc_curve(y_true, y_prob)\n",
    "    tnrs = 1 - fprs  # True Negative Rate (Specificity)\n",
    "    g_means = np.sqrt(tprs * tnrs)  # Compute G-Mean\n",
    "\n",
    "    # Apply constraint: Only consider thresholds where TPR >= TNR\n",
    "    if c:\n",
    "        mask = tprs >= tnrs\n",
    "        g_means = g_means[mask]\n",
    "        thresholds = thresholds[mask]\n",
    "\n",
    "    # Find the best threshold maximizing G-Mean\n",
    "    best_idx = np.argmax(g_means)  # Index of the best threshold\n",
    "    return thresholds[best_idx], g_means[best_idx]"
   ]
  },
  {
   "cell_type": "raw",
   "id": "648febd6-858c-42ba-a64c-f41124b5639f",
   "metadata": {},
   "source": [
    "G-mean with no constraint"
   ]
  },
  {
   "cell_type": "code",
   "execution_count": 59,
   "id": "7da3d903-51bf-47eb-bcf8-44ed4d880dcf",
   "metadata": {},
   "outputs": [
    {
     "name": "stdout",
     "output_type": "stream",
     "text": [
      "Best Threshold: 0.22246222\n",
      "Best MCC Score: 0.6542786631271322\n"
     ]
    }
   ],
   "source": [
    "best_thresh, best_gmean = best_threshold_gmean(y_test, y_test_pred_proba)\n",
    "print(\"Best Threshold:\", best_thresh)\n",
    "print(\"Best MCC Score:\", best_gmean)"
   ]
  },
  {
   "cell_type": "code",
   "execution_count": 60,
   "id": "987580de-23d1-47c8-9bf8-09a9cb5f4296",
   "metadata": {},
   "outputs": [
    {
     "name": "stdout",
     "output_type": "stream",
     "text": [
      "G-mean:\n",
      "Recall (Sensitivity) 0.6793729559039133\n",
      "Specificity (TNR) 0.6301112890987269\n",
      "F1-Score 0.37139334155363746\n",
      "G-Mean 0.6542786631271322\n",
      "MCC 0.2284988652934615\n"
     ]
    }
   ],
   "source": [
    "print(\"G-mean:\")\n",
    "evaluate_model(y_test, y_test_pred_proba, best_thresh)"
   ]
  },
  {
   "cell_type": "markdown",
   "id": "e497dd61-dab1-4d73-905f-21350f48b5c5",
   "metadata": {},
   "source": [
    "G-mean with constraint"
   ]
  },
  {
   "cell_type": "code",
   "execution_count": 61,
   "id": "d6014aed-cbd0-4712-ba36-a7b63a095e16",
   "metadata": {},
   "outputs": [
    {
     "name": "stdout",
     "output_type": "stream",
     "text": [
      "Best Threshold: 0.22246222\n",
      "Best MCC Score: 0.6542786631271322\n"
     ]
    }
   ],
   "source": [
    "best_thresh, best_gmean = best_threshold_gmean(y_test, y_test_pred_proba, True)\n",
    "print(\"Best Threshold:\", best_thresh)\n",
    "print(\"Best MCC Score:\", best_gmean)"
   ]
  },
  {
   "cell_type": "code",
   "execution_count": 62,
   "id": "b925008d-ae5f-4859-b4a4-f589ea3e0f01",
   "metadata": {},
   "outputs": [
    {
     "name": "stdout",
     "output_type": "stream",
     "text": [
      "G-mean with constrain:\n",
      "Recall (Sensitivity) 0.6793729559039133\n",
      "Specificity (TNR) 0.6301112890987269\n",
      "F1-Score 0.37139334155363746\n",
      "G-Mean 0.6542786631271322\n",
      "MCC 0.2284988652934615\n"
     ]
    }
   ],
   "source": [
    "print(\"G-mean with constrain:\")\n",
    "evaluate_model(y_test, y_test_pred_proba, best_thresh)"
   ]
  },
  {
   "cell_type": "markdown",
   "id": "af5e78ad-bd10-4098-be4d-659201ec6a29",
   "metadata": {},
   "source": [
    "### F-measure"
   ]
  },
  {
   "cell_type": "code",
   "execution_count": 63,
   "id": "300ee16a-bfba-444c-a242-7f95fc6dd764",
   "metadata": {},
   "outputs": [],
   "source": [
    "from sklearn.metrics import f1_score, precision_recall_curve, roc_curve\n",
    "\n",
    "def best_threshold_f1(y_true, y_prob, c=False):\n",
    "    \"\"\"\n",
    "    Find the best classification threshold using F1-Score (F-Measure).\n",
    "    If c=True, only consider thresholds where TPR >= TNR.\n",
    "\n",
    "    Parameters:\n",
    "    - y_true: Ground truth labels (binary: 0 or 1)\n",
    "    - y_prob: Predicted probabilities\n",
    "    - c: Constraint flag (default=False). If True, only use thresholds where TPR >= TNR.\n",
    "\n",
    "    Returns:\n",
    "    - optimal_threshold: Best threshold maximizing F1-score\n",
    "    - best_f1: The corresponding F1-score\n",
    "    \"\"\"\n",
    "    # Compute ROC Curve thresholds (ensuring same threshold set)\n",
    "    fprs, tprs, thresholds = roc_curve(y_true, y_prob)\n",
    "    tnrs = 1 - fprs  # Compute True Negative Rate (Specificity)\n",
    "\n",
    "    # Compute F1-score for each threshold\n",
    "    f1_scores = []\n",
    "    for threshold in thresholds:\n",
    "        y_pred = (y_prob >= threshold).astype(int)\n",
    "        f1_scores.append(f1_score(y_true, y_pred))\n",
    "\n",
    "    f1_scores = np.array(f1_scores)\n",
    "\n",
    "    # Apply constraint: Only consider thresholds where TPR >= TNR\n",
    "    if c:\n",
    "        mask = tprs >= tnrs\n",
    "        f1_scores = f1_scores[mask]  # Keep only valid F1 scores\n",
    "        thresholds = thresholds[mask]  # Keep only valid thresholds\n",
    "\n",
    "    # Find the best threshold maximizing F1-score\n",
    "    best_idx = np.argmax(f1_scores)\n",
    "    return thresholds[best_idx], f1_scores[best_idx]"
   ]
  },
  {
   "cell_type": "code",
   "execution_count": 64,
   "id": "5ec66571-e906-4c0b-bd36-b5565ac5118d",
   "metadata": {},
   "outputs": [
    {
     "name": "stdout",
     "output_type": "stream",
     "text": [
      "Best Threshold: 0.288469\n",
      "Best F1 Score: 0.37713513942957017\n"
     ]
    }
   ],
   "source": [
    "best_thresh, best_f1 = best_threshold_f1(y_test, y_test_pred_proba, c=False)\n",
    "print(\"Best Threshold:\", best_thresh)\n",
    "print(\"Best F1 Score:\", best_f1)"
   ]
  },
  {
   "cell_type": "code",
   "execution_count": 65,
   "id": "42233bb2-7aef-4ada-a26b-5971d50ddac8",
   "metadata": {},
   "outputs": [
    {
     "name": "stdout",
     "output_type": "stream",
     "text": [
      "F1:\n",
      "Recall (Sensitivity) 0.5353558136912147\n",
      "Specificity (TNR) 0.7563443217266672\n",
      "F1-Score 0.37713513942957017\n",
      "G-Mean 0.6363280048754021\n",
      "MCC 0.23424853781081778\n"
     ]
    }
   ],
   "source": [
    "print(\"F1:\")\n",
    "evaluate_model(y_test, y_test_pred_proba, best_thresh)"
   ]
  },
  {
   "cell_type": "code",
   "execution_count": 66,
   "id": "6fe1ca4e-187f-4fcf-8a10-bf128a8c70d3",
   "metadata": {},
   "outputs": [
    {
     "name": "stdout",
     "output_type": "stream",
     "text": [
      "Best Threshold: 0.23358633\n",
      "Best F1 Score: 0.3730993024078182\n"
     ]
    }
   ],
   "source": [
    "best_thresh, best_f1 = best_threshold_f1(y_test, y_test_pred_proba, c=True)\n",
    "print(\"Best Threshold:\", best_thresh)\n",
    "print(\"Best F1 Score:\", best_f1)"
   ]
  },
  {
   "cell_type": "code",
   "execution_count": 67,
   "id": "a4a2906c-06af-41ce-b9d8-28da487a2015",
   "metadata": {},
   "outputs": [
    {
     "name": "stdout",
     "output_type": "stream",
     "text": [
      "F1 with constrain:\n",
      "Recall (Sensitivity) 0.6544490808616218\n",
      "Specificity (TNR) 0.6535494477700026\n",
      "F1-Score 0.3730993024078182\n",
      "G-Mean 0.6539991096253103\n",
      "MCC 0.2294921385189642\n"
     ]
    }
   ],
   "source": [
    "print(\"F1 with constrain:\")\n",
    "evaluate_model(y_test, y_test_pred_proba, best_thresh)"
   ]
  },
  {
   "cell_type": "markdown",
   "id": "386a6f85-4204-4189-98c1-3c9a88fb8535",
   "metadata": {},
   "source": [
    "### SMOTE"
   ]
  },
  {
   "cell_type": "code",
   "execution_count": 68,
   "id": "c4d168be-752e-4f4a-87f4-b03f49723364",
   "metadata": {},
   "outputs": [
    {
     "name": "stdout",
     "output_type": "stream",
     "text": [
      "Class distribution after SMOTE: Counter({0: 654747, 1: 654747})\n"
     ]
    }
   ],
   "source": [
    "from imblearn.over_sampling import SMOTE\n",
    "from collections import Counter\n",
    "\n",
    "# Initialize SMOTE\n",
    "smote = SMOTE(sampling_strategy='auto', random_state=42)\n",
    "\n",
    "# Apply SMOTE on training data\n",
    "X_resampled, y_resampled = smote.fit_resample(X_train, y_train)\n",
    "\n",
    "# Check new class distribution\n",
    "print(\"Class distribution after SMOTE:\", Counter(y_resampled))"
   ]
  },
  {
   "cell_type": "code",
   "execution_count": 69,
   "id": "345c8867-e6fe-4e70-9870-bb07afb64a9b",
   "metadata": {},
   "outputs": [
    {
     "data": {
      "text/html": [
       "<style>#sk-container-id-2 {\n",
       "  /* Definition of color scheme common for light and dark mode */\n",
       "  --sklearn-color-text: #000;\n",
       "  --sklearn-color-text-muted: #666;\n",
       "  --sklearn-color-line: gray;\n",
       "  /* Definition of color scheme for unfitted estimators */\n",
       "  --sklearn-color-unfitted-level-0: #fff5e6;\n",
       "  --sklearn-color-unfitted-level-1: #f6e4d2;\n",
       "  --sklearn-color-unfitted-level-2: #ffe0b3;\n",
       "  --sklearn-color-unfitted-level-3: chocolate;\n",
       "  /* Definition of color scheme for fitted estimators */\n",
       "  --sklearn-color-fitted-level-0: #f0f8ff;\n",
       "  --sklearn-color-fitted-level-1: #d4ebff;\n",
       "  --sklearn-color-fitted-level-2: #b3dbfd;\n",
       "  --sklearn-color-fitted-level-3: cornflowerblue;\n",
       "\n",
       "  /* Specific color for light theme */\n",
       "  --sklearn-color-text-on-default-background: var(--sg-text-color, var(--theme-code-foreground, var(--jp-content-font-color1, black)));\n",
       "  --sklearn-color-background: var(--sg-background-color, var(--theme-background, var(--jp-layout-color0, white)));\n",
       "  --sklearn-color-border-box: var(--sg-text-color, var(--theme-code-foreground, var(--jp-content-font-color1, black)));\n",
       "  --sklearn-color-icon: #696969;\n",
       "\n",
       "  @media (prefers-color-scheme: dark) {\n",
       "    /* Redefinition of color scheme for dark theme */\n",
       "    --sklearn-color-text-on-default-background: var(--sg-text-color, var(--theme-code-foreground, var(--jp-content-font-color1, white)));\n",
       "    --sklearn-color-background: var(--sg-background-color, var(--theme-background, var(--jp-layout-color0, #111)));\n",
       "    --sklearn-color-border-box: var(--sg-text-color, var(--theme-code-foreground, var(--jp-content-font-color1, white)));\n",
       "    --sklearn-color-icon: #878787;\n",
       "  }\n",
       "}\n",
       "\n",
       "#sk-container-id-2 {\n",
       "  color: var(--sklearn-color-text);\n",
       "}\n",
       "\n",
       "#sk-container-id-2 pre {\n",
       "  padding: 0;\n",
       "}\n",
       "\n",
       "#sk-container-id-2 input.sk-hidden--visually {\n",
       "  border: 0;\n",
       "  clip: rect(1px 1px 1px 1px);\n",
       "  clip: rect(1px, 1px, 1px, 1px);\n",
       "  height: 1px;\n",
       "  margin: -1px;\n",
       "  overflow: hidden;\n",
       "  padding: 0;\n",
       "  position: absolute;\n",
       "  width: 1px;\n",
       "}\n",
       "\n",
       "#sk-container-id-2 div.sk-dashed-wrapped {\n",
       "  border: 1px dashed var(--sklearn-color-line);\n",
       "  margin: 0 0.4em 0.5em 0.4em;\n",
       "  box-sizing: border-box;\n",
       "  padding-bottom: 0.4em;\n",
       "  background-color: var(--sklearn-color-background);\n",
       "}\n",
       "\n",
       "#sk-container-id-2 div.sk-container {\n",
       "  /* jupyter's `normalize.less` sets `[hidden] { display: none; }`\n",
       "     but bootstrap.min.css set `[hidden] { display: none !important; }`\n",
       "     so we also need the `!important` here to be able to override the\n",
       "     default hidden behavior on the sphinx rendered scikit-learn.org.\n",
       "     See: https://github.com/scikit-learn/scikit-learn/issues/21755 */\n",
       "  display: inline-block !important;\n",
       "  position: relative;\n",
       "}\n",
       "\n",
       "#sk-container-id-2 div.sk-text-repr-fallback {\n",
       "  display: none;\n",
       "}\n",
       "\n",
       "div.sk-parallel-item,\n",
       "div.sk-serial,\n",
       "div.sk-item {\n",
       "  /* draw centered vertical line to link estimators */\n",
       "  background-image: linear-gradient(var(--sklearn-color-text-on-default-background), var(--sklearn-color-text-on-default-background));\n",
       "  background-size: 2px 100%;\n",
       "  background-repeat: no-repeat;\n",
       "  background-position: center center;\n",
       "}\n",
       "\n",
       "/* Parallel-specific style estimator block */\n",
       "\n",
       "#sk-container-id-2 div.sk-parallel-item::after {\n",
       "  content: \"\";\n",
       "  width: 100%;\n",
       "  border-bottom: 2px solid var(--sklearn-color-text-on-default-background);\n",
       "  flex-grow: 1;\n",
       "}\n",
       "\n",
       "#sk-container-id-2 div.sk-parallel {\n",
       "  display: flex;\n",
       "  align-items: stretch;\n",
       "  justify-content: center;\n",
       "  background-color: var(--sklearn-color-background);\n",
       "  position: relative;\n",
       "}\n",
       "\n",
       "#sk-container-id-2 div.sk-parallel-item {\n",
       "  display: flex;\n",
       "  flex-direction: column;\n",
       "}\n",
       "\n",
       "#sk-container-id-2 div.sk-parallel-item:first-child::after {\n",
       "  align-self: flex-end;\n",
       "  width: 50%;\n",
       "}\n",
       "\n",
       "#sk-container-id-2 div.sk-parallel-item:last-child::after {\n",
       "  align-self: flex-start;\n",
       "  width: 50%;\n",
       "}\n",
       "\n",
       "#sk-container-id-2 div.sk-parallel-item:only-child::after {\n",
       "  width: 0;\n",
       "}\n",
       "\n",
       "/* Serial-specific style estimator block */\n",
       "\n",
       "#sk-container-id-2 div.sk-serial {\n",
       "  display: flex;\n",
       "  flex-direction: column;\n",
       "  align-items: center;\n",
       "  background-color: var(--sklearn-color-background);\n",
       "  padding-right: 1em;\n",
       "  padding-left: 1em;\n",
       "}\n",
       "\n",
       "\n",
       "/* Toggleable style: style used for estimator/Pipeline/ColumnTransformer box that is\n",
       "clickable and can be expanded/collapsed.\n",
       "- Pipeline and ColumnTransformer use this feature and define the default style\n",
       "- Estimators will overwrite some part of the style using the `sk-estimator` class\n",
       "*/\n",
       "\n",
       "/* Pipeline and ColumnTransformer style (default) */\n",
       "\n",
       "#sk-container-id-2 div.sk-toggleable {\n",
       "  /* Default theme specific background. It is overwritten whether we have a\n",
       "  specific estimator or a Pipeline/ColumnTransformer */\n",
       "  background-color: var(--sklearn-color-background);\n",
       "}\n",
       "\n",
       "/* Toggleable label */\n",
       "#sk-container-id-2 label.sk-toggleable__label {\n",
       "  cursor: pointer;\n",
       "  display: flex;\n",
       "  width: 100%;\n",
       "  margin-bottom: 0;\n",
       "  padding: 0.5em;\n",
       "  box-sizing: border-box;\n",
       "  text-align: center;\n",
       "  align-items: start;\n",
       "  justify-content: space-between;\n",
       "  gap: 0.5em;\n",
       "}\n",
       "\n",
       "#sk-container-id-2 label.sk-toggleable__label .caption {\n",
       "  font-size: 0.6rem;\n",
       "  font-weight: lighter;\n",
       "  color: var(--sklearn-color-text-muted);\n",
       "}\n",
       "\n",
       "#sk-container-id-2 label.sk-toggleable__label-arrow:before {\n",
       "  /* Arrow on the left of the label */\n",
       "  content: \"▸\";\n",
       "  float: left;\n",
       "  margin-right: 0.25em;\n",
       "  color: var(--sklearn-color-icon);\n",
       "}\n",
       "\n",
       "#sk-container-id-2 label.sk-toggleable__label-arrow:hover:before {\n",
       "  color: var(--sklearn-color-text);\n",
       "}\n",
       "\n",
       "/* Toggleable content - dropdown */\n",
       "\n",
       "#sk-container-id-2 div.sk-toggleable__content {\n",
       "  max-height: 0;\n",
       "  max-width: 0;\n",
       "  overflow: hidden;\n",
       "  text-align: left;\n",
       "  /* unfitted */\n",
       "  background-color: var(--sklearn-color-unfitted-level-0);\n",
       "}\n",
       "\n",
       "#sk-container-id-2 div.sk-toggleable__content.fitted {\n",
       "  /* fitted */\n",
       "  background-color: var(--sklearn-color-fitted-level-0);\n",
       "}\n",
       "\n",
       "#sk-container-id-2 div.sk-toggleable__content pre {\n",
       "  margin: 0.2em;\n",
       "  border-radius: 0.25em;\n",
       "  color: var(--sklearn-color-text);\n",
       "  /* unfitted */\n",
       "  background-color: var(--sklearn-color-unfitted-level-0);\n",
       "}\n",
       "\n",
       "#sk-container-id-2 div.sk-toggleable__content.fitted pre {\n",
       "  /* unfitted */\n",
       "  background-color: var(--sklearn-color-fitted-level-0);\n",
       "}\n",
       "\n",
       "#sk-container-id-2 input.sk-toggleable__control:checked~div.sk-toggleable__content {\n",
       "  /* Expand drop-down */\n",
       "  max-height: 200px;\n",
       "  max-width: 100%;\n",
       "  overflow: auto;\n",
       "}\n",
       "\n",
       "#sk-container-id-2 input.sk-toggleable__control:checked~label.sk-toggleable__label-arrow:before {\n",
       "  content: \"▾\";\n",
       "}\n",
       "\n",
       "/* Pipeline/ColumnTransformer-specific style */\n",
       "\n",
       "#sk-container-id-2 div.sk-label input.sk-toggleable__control:checked~label.sk-toggleable__label {\n",
       "  color: var(--sklearn-color-text);\n",
       "  background-color: var(--sklearn-color-unfitted-level-2);\n",
       "}\n",
       "\n",
       "#sk-container-id-2 div.sk-label.fitted input.sk-toggleable__control:checked~label.sk-toggleable__label {\n",
       "  background-color: var(--sklearn-color-fitted-level-2);\n",
       "}\n",
       "\n",
       "/* Estimator-specific style */\n",
       "\n",
       "/* Colorize estimator box */\n",
       "#sk-container-id-2 div.sk-estimator input.sk-toggleable__control:checked~label.sk-toggleable__label {\n",
       "  /* unfitted */\n",
       "  background-color: var(--sklearn-color-unfitted-level-2);\n",
       "}\n",
       "\n",
       "#sk-container-id-2 div.sk-estimator.fitted input.sk-toggleable__control:checked~label.sk-toggleable__label {\n",
       "  /* fitted */\n",
       "  background-color: var(--sklearn-color-fitted-level-2);\n",
       "}\n",
       "\n",
       "#sk-container-id-2 div.sk-label label.sk-toggleable__label,\n",
       "#sk-container-id-2 div.sk-label label {\n",
       "  /* The background is the default theme color */\n",
       "  color: var(--sklearn-color-text-on-default-background);\n",
       "}\n",
       "\n",
       "/* On hover, darken the color of the background */\n",
       "#sk-container-id-2 div.sk-label:hover label.sk-toggleable__label {\n",
       "  color: var(--sklearn-color-text);\n",
       "  background-color: var(--sklearn-color-unfitted-level-2);\n",
       "}\n",
       "\n",
       "/* Label box, darken color on hover, fitted */\n",
       "#sk-container-id-2 div.sk-label.fitted:hover label.sk-toggleable__label.fitted {\n",
       "  color: var(--sklearn-color-text);\n",
       "  background-color: var(--sklearn-color-fitted-level-2);\n",
       "}\n",
       "\n",
       "/* Estimator label */\n",
       "\n",
       "#sk-container-id-2 div.sk-label label {\n",
       "  font-family: monospace;\n",
       "  font-weight: bold;\n",
       "  display: inline-block;\n",
       "  line-height: 1.2em;\n",
       "}\n",
       "\n",
       "#sk-container-id-2 div.sk-label-container {\n",
       "  text-align: center;\n",
       "}\n",
       "\n",
       "/* Estimator-specific */\n",
       "#sk-container-id-2 div.sk-estimator {\n",
       "  font-family: monospace;\n",
       "  border: 1px dotted var(--sklearn-color-border-box);\n",
       "  border-radius: 0.25em;\n",
       "  box-sizing: border-box;\n",
       "  margin-bottom: 0.5em;\n",
       "  /* unfitted */\n",
       "  background-color: var(--sklearn-color-unfitted-level-0);\n",
       "}\n",
       "\n",
       "#sk-container-id-2 div.sk-estimator.fitted {\n",
       "  /* fitted */\n",
       "  background-color: var(--sklearn-color-fitted-level-0);\n",
       "}\n",
       "\n",
       "/* on hover */\n",
       "#sk-container-id-2 div.sk-estimator:hover {\n",
       "  /* unfitted */\n",
       "  background-color: var(--sklearn-color-unfitted-level-2);\n",
       "}\n",
       "\n",
       "#sk-container-id-2 div.sk-estimator.fitted:hover {\n",
       "  /* fitted */\n",
       "  background-color: var(--sklearn-color-fitted-level-2);\n",
       "}\n",
       "\n",
       "/* Specification for estimator info (e.g. \"i\" and \"?\") */\n",
       "\n",
       "/* Common style for \"i\" and \"?\" */\n",
       "\n",
       ".sk-estimator-doc-link,\n",
       "a:link.sk-estimator-doc-link,\n",
       "a:visited.sk-estimator-doc-link {\n",
       "  float: right;\n",
       "  font-size: smaller;\n",
       "  line-height: 1em;\n",
       "  font-family: monospace;\n",
       "  background-color: var(--sklearn-color-background);\n",
       "  border-radius: 1em;\n",
       "  height: 1em;\n",
       "  width: 1em;\n",
       "  text-decoration: none !important;\n",
       "  margin-left: 0.5em;\n",
       "  text-align: center;\n",
       "  /* unfitted */\n",
       "  border: var(--sklearn-color-unfitted-level-1) 1pt solid;\n",
       "  color: var(--sklearn-color-unfitted-level-1);\n",
       "}\n",
       "\n",
       ".sk-estimator-doc-link.fitted,\n",
       "a:link.sk-estimator-doc-link.fitted,\n",
       "a:visited.sk-estimator-doc-link.fitted {\n",
       "  /* fitted */\n",
       "  border: var(--sklearn-color-fitted-level-1) 1pt solid;\n",
       "  color: var(--sklearn-color-fitted-level-1);\n",
       "}\n",
       "\n",
       "/* On hover */\n",
       "div.sk-estimator:hover .sk-estimator-doc-link:hover,\n",
       ".sk-estimator-doc-link:hover,\n",
       "div.sk-label-container:hover .sk-estimator-doc-link:hover,\n",
       ".sk-estimator-doc-link:hover {\n",
       "  /* unfitted */\n",
       "  background-color: var(--sklearn-color-unfitted-level-3);\n",
       "  color: var(--sklearn-color-background);\n",
       "  text-decoration: none;\n",
       "}\n",
       "\n",
       "div.sk-estimator.fitted:hover .sk-estimator-doc-link.fitted:hover,\n",
       ".sk-estimator-doc-link.fitted:hover,\n",
       "div.sk-label-container:hover .sk-estimator-doc-link.fitted:hover,\n",
       ".sk-estimator-doc-link.fitted:hover {\n",
       "  /* fitted */\n",
       "  background-color: var(--sklearn-color-fitted-level-3);\n",
       "  color: var(--sklearn-color-background);\n",
       "  text-decoration: none;\n",
       "}\n",
       "\n",
       "/* Span, style for the box shown on hovering the info icon */\n",
       ".sk-estimator-doc-link span {\n",
       "  display: none;\n",
       "  z-index: 9999;\n",
       "  position: relative;\n",
       "  font-weight: normal;\n",
       "  right: .2ex;\n",
       "  padding: .5ex;\n",
       "  margin: .5ex;\n",
       "  width: min-content;\n",
       "  min-width: 20ex;\n",
       "  max-width: 50ex;\n",
       "  color: var(--sklearn-color-text);\n",
       "  box-shadow: 2pt 2pt 4pt #999;\n",
       "  /* unfitted */\n",
       "  background: var(--sklearn-color-unfitted-level-0);\n",
       "  border: .5pt solid var(--sklearn-color-unfitted-level-3);\n",
       "}\n",
       "\n",
       ".sk-estimator-doc-link.fitted span {\n",
       "  /* fitted */\n",
       "  background: var(--sklearn-color-fitted-level-0);\n",
       "  border: var(--sklearn-color-fitted-level-3);\n",
       "}\n",
       "\n",
       ".sk-estimator-doc-link:hover span {\n",
       "  display: block;\n",
       "}\n",
       "\n",
       "/* \"?\"-specific style due to the `<a>` HTML tag */\n",
       "\n",
       "#sk-container-id-2 a.estimator_doc_link {\n",
       "  float: right;\n",
       "  font-size: 1rem;\n",
       "  line-height: 1em;\n",
       "  font-family: monospace;\n",
       "  background-color: var(--sklearn-color-background);\n",
       "  border-radius: 1rem;\n",
       "  height: 1rem;\n",
       "  width: 1rem;\n",
       "  text-decoration: none;\n",
       "  /* unfitted */\n",
       "  color: var(--sklearn-color-unfitted-level-1);\n",
       "  border: var(--sklearn-color-unfitted-level-1) 1pt solid;\n",
       "}\n",
       "\n",
       "#sk-container-id-2 a.estimator_doc_link.fitted {\n",
       "  /* fitted */\n",
       "  border: var(--sklearn-color-fitted-level-1) 1pt solid;\n",
       "  color: var(--sklearn-color-fitted-level-1);\n",
       "}\n",
       "\n",
       "/* On hover */\n",
       "#sk-container-id-2 a.estimator_doc_link:hover {\n",
       "  /* unfitted */\n",
       "  background-color: var(--sklearn-color-unfitted-level-3);\n",
       "  color: var(--sklearn-color-background);\n",
       "  text-decoration: none;\n",
       "}\n",
       "\n",
       "#sk-container-id-2 a.estimator_doc_link.fitted:hover {\n",
       "  /* fitted */\n",
       "  background-color: var(--sklearn-color-fitted-level-3);\n",
       "}\n",
       "</style><div id=\"sk-container-id-2\" class=\"sk-top-container\"><div class=\"sk-text-repr-fallback\"><pre>XGBClassifier(base_score=None, booster=None, callbacks=None,\n",
       "              colsample_bylevel=None, colsample_bynode=None,\n",
       "              colsample_bytree=None, device=None, early_stopping_rounds=None,\n",
       "              enable_categorical=False, eval_metric=None, feature_types=None,\n",
       "              gamma=None, grow_policy=None, importance_type=None,\n",
       "              interaction_constraints=None, learning_rate=None, max_bin=None,\n",
       "              max_cat_threshold=None, max_cat_to_onehot=None,\n",
       "              max_delta_step=None, max_depth=None, max_leaves=None,\n",
       "              min_child_weight=None, missing=nan, monotone_constraints=None,\n",
       "              multi_strategy=None, n_estimators=None, n_jobs=None,\n",
       "              num_parallel_tree=None, random_state=None, ...)</pre><b>In a Jupyter environment, please rerun this cell to show the HTML representation or trust the notebook. <br />On GitHub, the HTML representation is unable to render, please try loading this page with nbviewer.org.</b></div><div class=\"sk-container\" hidden><div class=\"sk-item\"><div class=\"sk-estimator fitted sk-toggleable\"><input class=\"sk-toggleable__control sk-hidden--visually\" id=\"sk-estimator-id-2\" type=\"checkbox\" checked><label for=\"sk-estimator-id-2\" class=\"sk-toggleable__label fitted sk-toggleable__label-arrow\"><div><div>XGBClassifier</div></div><div><span class=\"sk-estimator-doc-link fitted\">i<span>Fitted</span></span></div></label><div class=\"sk-toggleable__content fitted\"><pre>XGBClassifier(base_score=None, booster=None, callbacks=None,\n",
       "              colsample_bylevel=None, colsample_bynode=None,\n",
       "              colsample_bytree=None, device=None, early_stopping_rounds=None,\n",
       "              enable_categorical=False, eval_metric=None, feature_types=None,\n",
       "              gamma=None, grow_policy=None, importance_type=None,\n",
       "              interaction_constraints=None, learning_rate=None, max_bin=None,\n",
       "              max_cat_threshold=None, max_cat_to_onehot=None,\n",
       "              max_delta_step=None, max_depth=None, max_leaves=None,\n",
       "              min_child_weight=None, missing=nan, monotone_constraints=None,\n",
       "              multi_strategy=None, n_estimators=None, n_jobs=None,\n",
       "              num_parallel_tree=None, random_state=None, ...)</pre></div> </div></div></div></div>"
      ],
      "text/plain": [
       "XGBClassifier(base_score=None, booster=None, callbacks=None,\n",
       "              colsample_bylevel=None, colsample_bynode=None,\n",
       "              colsample_bytree=None, device=None, early_stopping_rounds=None,\n",
       "              enable_categorical=False, eval_metric=None, feature_types=None,\n",
       "              gamma=None, grow_policy=None, importance_type=None,\n",
       "              interaction_constraints=None, learning_rate=None, max_bin=None,\n",
       "              max_cat_threshold=None, max_cat_to_onehot=None,\n",
       "              max_delta_step=None, max_depth=None, max_leaves=None,\n",
       "              min_child_weight=None, missing=nan, monotone_constraints=None,\n",
       "              multi_strategy=None, n_estimators=None, n_jobs=None,\n",
       "              num_parallel_tree=None, random_state=None, ...)"
      ]
     },
     "execution_count": 69,
     "metadata": {},
     "output_type": "execute_result"
    }
   ],
   "source": [
    "# Train the model\n",
    "model.fit(X_resampled, y_resampled)"
   ]
  },
  {
   "cell_type": "code",
   "execution_count": 70,
   "id": "f1e5a1c1-7202-48c7-ab8f-814f86b26d81",
   "metadata": {},
   "outputs": [],
   "source": [
    "# Predict class labels (0 or 1)\n",
    "y_test_pred = model.predict(X_test)\n",
    "\n",
    "# Predict probabilities for each class\n",
    "y_test_pred_proba = model.predict_proba(X_test)[:, 1]  # Probabilities for class 1\n"
   ]
  },
  {
   "cell_type": "code",
   "execution_count": 71,
   "id": "873fea07-c67e-4237-be56-1cb5eb296475",
   "metadata": {},
   "outputs": [
    {
     "name": "stdout",
     "output_type": "stream",
     "text": [
      "SMOTE:\n",
      "Recall (Sensitivity) 0.1545054697191835\n",
      "Specificity (TNR) 0.9509316246522216\n",
      "F1-Score 0.21806605650616792\n",
      "G-Mean 0.3833068448876406\n",
      "MCC 0.15503953086643826\n"
     ]
    }
   ],
   "source": [
    "print(\"SMOTE:\")\n",
    "evaluate_model(y_test, y_test_pred_proba, 0.5)"
   ]
  },
  {
   "cell_type": "markdown",
   "id": "ef63ce1f-bfe3-426b-a094-31b8938679fd",
   "metadata": {},
   "source": [
    "### Random Under Sampling"
   ]
  },
  {
   "cell_type": "code",
   "execution_count": 72,
   "id": "1697fbd0-cdd3-42b3-8d5f-4d1319811fc2",
   "metadata": {},
   "outputs": [
    {
     "name": "stdout",
     "output_type": "stream",
     "text": [
      "Class distribution after RUS: Counter({0: 183193, 1: 183193})\n"
     ]
    }
   ],
   "source": [
    "from imblearn.under_sampling import RandomUnderSampler\n",
    "\n",
    "# Initialize Random Undersampler\n",
    "rus = RandomUnderSampler(sampling_strategy='auto', random_state=42)\n",
    "\n",
    "# Apply undersampling\n",
    "X_resampled, y_resampled = rus.fit_resample(X_train, y_train)\n",
    "\n",
    "# Check new class distribution\n",
    "print(\"Class distribution after RUS:\", Counter(y_resampled))"
   ]
  },
  {
   "cell_type": "code",
   "execution_count": 73,
   "id": "90bc457f-ee03-4e0a-8c14-5a5fffef762a",
   "metadata": {},
   "outputs": [
    {
     "data": {
      "text/html": [
       "<style>#sk-container-id-3 {\n",
       "  /* Definition of color scheme common for light and dark mode */\n",
       "  --sklearn-color-text: #000;\n",
       "  --sklearn-color-text-muted: #666;\n",
       "  --sklearn-color-line: gray;\n",
       "  /* Definition of color scheme for unfitted estimators */\n",
       "  --sklearn-color-unfitted-level-0: #fff5e6;\n",
       "  --sklearn-color-unfitted-level-1: #f6e4d2;\n",
       "  --sklearn-color-unfitted-level-2: #ffe0b3;\n",
       "  --sklearn-color-unfitted-level-3: chocolate;\n",
       "  /* Definition of color scheme for fitted estimators */\n",
       "  --sklearn-color-fitted-level-0: #f0f8ff;\n",
       "  --sklearn-color-fitted-level-1: #d4ebff;\n",
       "  --sklearn-color-fitted-level-2: #b3dbfd;\n",
       "  --sklearn-color-fitted-level-3: cornflowerblue;\n",
       "\n",
       "  /* Specific color for light theme */\n",
       "  --sklearn-color-text-on-default-background: var(--sg-text-color, var(--theme-code-foreground, var(--jp-content-font-color1, black)));\n",
       "  --sklearn-color-background: var(--sg-background-color, var(--theme-background, var(--jp-layout-color0, white)));\n",
       "  --sklearn-color-border-box: var(--sg-text-color, var(--theme-code-foreground, var(--jp-content-font-color1, black)));\n",
       "  --sklearn-color-icon: #696969;\n",
       "\n",
       "  @media (prefers-color-scheme: dark) {\n",
       "    /* Redefinition of color scheme for dark theme */\n",
       "    --sklearn-color-text-on-default-background: var(--sg-text-color, var(--theme-code-foreground, var(--jp-content-font-color1, white)));\n",
       "    --sklearn-color-background: var(--sg-background-color, var(--theme-background, var(--jp-layout-color0, #111)));\n",
       "    --sklearn-color-border-box: var(--sg-text-color, var(--theme-code-foreground, var(--jp-content-font-color1, white)));\n",
       "    --sklearn-color-icon: #878787;\n",
       "  }\n",
       "}\n",
       "\n",
       "#sk-container-id-3 {\n",
       "  color: var(--sklearn-color-text);\n",
       "}\n",
       "\n",
       "#sk-container-id-3 pre {\n",
       "  padding: 0;\n",
       "}\n",
       "\n",
       "#sk-container-id-3 input.sk-hidden--visually {\n",
       "  border: 0;\n",
       "  clip: rect(1px 1px 1px 1px);\n",
       "  clip: rect(1px, 1px, 1px, 1px);\n",
       "  height: 1px;\n",
       "  margin: -1px;\n",
       "  overflow: hidden;\n",
       "  padding: 0;\n",
       "  position: absolute;\n",
       "  width: 1px;\n",
       "}\n",
       "\n",
       "#sk-container-id-3 div.sk-dashed-wrapped {\n",
       "  border: 1px dashed var(--sklearn-color-line);\n",
       "  margin: 0 0.4em 0.5em 0.4em;\n",
       "  box-sizing: border-box;\n",
       "  padding-bottom: 0.4em;\n",
       "  background-color: var(--sklearn-color-background);\n",
       "}\n",
       "\n",
       "#sk-container-id-3 div.sk-container {\n",
       "  /* jupyter's `normalize.less` sets `[hidden] { display: none; }`\n",
       "     but bootstrap.min.css set `[hidden] { display: none !important; }`\n",
       "     so we also need the `!important` here to be able to override the\n",
       "     default hidden behavior on the sphinx rendered scikit-learn.org.\n",
       "     See: https://github.com/scikit-learn/scikit-learn/issues/21755 */\n",
       "  display: inline-block !important;\n",
       "  position: relative;\n",
       "}\n",
       "\n",
       "#sk-container-id-3 div.sk-text-repr-fallback {\n",
       "  display: none;\n",
       "}\n",
       "\n",
       "div.sk-parallel-item,\n",
       "div.sk-serial,\n",
       "div.sk-item {\n",
       "  /* draw centered vertical line to link estimators */\n",
       "  background-image: linear-gradient(var(--sklearn-color-text-on-default-background), var(--sklearn-color-text-on-default-background));\n",
       "  background-size: 2px 100%;\n",
       "  background-repeat: no-repeat;\n",
       "  background-position: center center;\n",
       "}\n",
       "\n",
       "/* Parallel-specific style estimator block */\n",
       "\n",
       "#sk-container-id-3 div.sk-parallel-item::after {\n",
       "  content: \"\";\n",
       "  width: 100%;\n",
       "  border-bottom: 2px solid var(--sklearn-color-text-on-default-background);\n",
       "  flex-grow: 1;\n",
       "}\n",
       "\n",
       "#sk-container-id-3 div.sk-parallel {\n",
       "  display: flex;\n",
       "  align-items: stretch;\n",
       "  justify-content: center;\n",
       "  background-color: var(--sklearn-color-background);\n",
       "  position: relative;\n",
       "}\n",
       "\n",
       "#sk-container-id-3 div.sk-parallel-item {\n",
       "  display: flex;\n",
       "  flex-direction: column;\n",
       "}\n",
       "\n",
       "#sk-container-id-3 div.sk-parallel-item:first-child::after {\n",
       "  align-self: flex-end;\n",
       "  width: 50%;\n",
       "}\n",
       "\n",
       "#sk-container-id-3 div.sk-parallel-item:last-child::after {\n",
       "  align-self: flex-start;\n",
       "  width: 50%;\n",
       "}\n",
       "\n",
       "#sk-container-id-3 div.sk-parallel-item:only-child::after {\n",
       "  width: 0;\n",
       "}\n",
       "\n",
       "/* Serial-specific style estimator block */\n",
       "\n",
       "#sk-container-id-3 div.sk-serial {\n",
       "  display: flex;\n",
       "  flex-direction: column;\n",
       "  align-items: center;\n",
       "  background-color: var(--sklearn-color-background);\n",
       "  padding-right: 1em;\n",
       "  padding-left: 1em;\n",
       "}\n",
       "\n",
       "\n",
       "/* Toggleable style: style used for estimator/Pipeline/ColumnTransformer box that is\n",
       "clickable and can be expanded/collapsed.\n",
       "- Pipeline and ColumnTransformer use this feature and define the default style\n",
       "- Estimators will overwrite some part of the style using the `sk-estimator` class\n",
       "*/\n",
       "\n",
       "/* Pipeline and ColumnTransformer style (default) */\n",
       "\n",
       "#sk-container-id-3 div.sk-toggleable {\n",
       "  /* Default theme specific background. It is overwritten whether we have a\n",
       "  specific estimator or a Pipeline/ColumnTransformer */\n",
       "  background-color: var(--sklearn-color-background);\n",
       "}\n",
       "\n",
       "/* Toggleable label */\n",
       "#sk-container-id-3 label.sk-toggleable__label {\n",
       "  cursor: pointer;\n",
       "  display: flex;\n",
       "  width: 100%;\n",
       "  margin-bottom: 0;\n",
       "  padding: 0.5em;\n",
       "  box-sizing: border-box;\n",
       "  text-align: center;\n",
       "  align-items: start;\n",
       "  justify-content: space-between;\n",
       "  gap: 0.5em;\n",
       "}\n",
       "\n",
       "#sk-container-id-3 label.sk-toggleable__label .caption {\n",
       "  font-size: 0.6rem;\n",
       "  font-weight: lighter;\n",
       "  color: var(--sklearn-color-text-muted);\n",
       "}\n",
       "\n",
       "#sk-container-id-3 label.sk-toggleable__label-arrow:before {\n",
       "  /* Arrow on the left of the label */\n",
       "  content: \"▸\";\n",
       "  float: left;\n",
       "  margin-right: 0.25em;\n",
       "  color: var(--sklearn-color-icon);\n",
       "}\n",
       "\n",
       "#sk-container-id-3 label.sk-toggleable__label-arrow:hover:before {\n",
       "  color: var(--sklearn-color-text);\n",
       "}\n",
       "\n",
       "/* Toggleable content - dropdown */\n",
       "\n",
       "#sk-container-id-3 div.sk-toggleable__content {\n",
       "  max-height: 0;\n",
       "  max-width: 0;\n",
       "  overflow: hidden;\n",
       "  text-align: left;\n",
       "  /* unfitted */\n",
       "  background-color: var(--sklearn-color-unfitted-level-0);\n",
       "}\n",
       "\n",
       "#sk-container-id-3 div.sk-toggleable__content.fitted {\n",
       "  /* fitted */\n",
       "  background-color: var(--sklearn-color-fitted-level-0);\n",
       "}\n",
       "\n",
       "#sk-container-id-3 div.sk-toggleable__content pre {\n",
       "  margin: 0.2em;\n",
       "  border-radius: 0.25em;\n",
       "  color: var(--sklearn-color-text);\n",
       "  /* unfitted */\n",
       "  background-color: var(--sklearn-color-unfitted-level-0);\n",
       "}\n",
       "\n",
       "#sk-container-id-3 div.sk-toggleable__content.fitted pre {\n",
       "  /* unfitted */\n",
       "  background-color: var(--sklearn-color-fitted-level-0);\n",
       "}\n",
       "\n",
       "#sk-container-id-3 input.sk-toggleable__control:checked~div.sk-toggleable__content {\n",
       "  /* Expand drop-down */\n",
       "  max-height: 200px;\n",
       "  max-width: 100%;\n",
       "  overflow: auto;\n",
       "}\n",
       "\n",
       "#sk-container-id-3 input.sk-toggleable__control:checked~label.sk-toggleable__label-arrow:before {\n",
       "  content: \"▾\";\n",
       "}\n",
       "\n",
       "/* Pipeline/ColumnTransformer-specific style */\n",
       "\n",
       "#sk-container-id-3 div.sk-label input.sk-toggleable__control:checked~label.sk-toggleable__label {\n",
       "  color: var(--sklearn-color-text);\n",
       "  background-color: var(--sklearn-color-unfitted-level-2);\n",
       "}\n",
       "\n",
       "#sk-container-id-3 div.sk-label.fitted input.sk-toggleable__control:checked~label.sk-toggleable__label {\n",
       "  background-color: var(--sklearn-color-fitted-level-2);\n",
       "}\n",
       "\n",
       "/* Estimator-specific style */\n",
       "\n",
       "/* Colorize estimator box */\n",
       "#sk-container-id-3 div.sk-estimator input.sk-toggleable__control:checked~label.sk-toggleable__label {\n",
       "  /* unfitted */\n",
       "  background-color: var(--sklearn-color-unfitted-level-2);\n",
       "}\n",
       "\n",
       "#sk-container-id-3 div.sk-estimator.fitted input.sk-toggleable__control:checked~label.sk-toggleable__label {\n",
       "  /* fitted */\n",
       "  background-color: var(--sklearn-color-fitted-level-2);\n",
       "}\n",
       "\n",
       "#sk-container-id-3 div.sk-label label.sk-toggleable__label,\n",
       "#sk-container-id-3 div.sk-label label {\n",
       "  /* The background is the default theme color */\n",
       "  color: var(--sklearn-color-text-on-default-background);\n",
       "}\n",
       "\n",
       "/* On hover, darken the color of the background */\n",
       "#sk-container-id-3 div.sk-label:hover label.sk-toggleable__label {\n",
       "  color: var(--sklearn-color-text);\n",
       "  background-color: var(--sklearn-color-unfitted-level-2);\n",
       "}\n",
       "\n",
       "/* Label box, darken color on hover, fitted */\n",
       "#sk-container-id-3 div.sk-label.fitted:hover label.sk-toggleable__label.fitted {\n",
       "  color: var(--sklearn-color-text);\n",
       "  background-color: var(--sklearn-color-fitted-level-2);\n",
       "}\n",
       "\n",
       "/* Estimator label */\n",
       "\n",
       "#sk-container-id-3 div.sk-label label {\n",
       "  font-family: monospace;\n",
       "  font-weight: bold;\n",
       "  display: inline-block;\n",
       "  line-height: 1.2em;\n",
       "}\n",
       "\n",
       "#sk-container-id-3 div.sk-label-container {\n",
       "  text-align: center;\n",
       "}\n",
       "\n",
       "/* Estimator-specific */\n",
       "#sk-container-id-3 div.sk-estimator {\n",
       "  font-family: monospace;\n",
       "  border: 1px dotted var(--sklearn-color-border-box);\n",
       "  border-radius: 0.25em;\n",
       "  box-sizing: border-box;\n",
       "  margin-bottom: 0.5em;\n",
       "  /* unfitted */\n",
       "  background-color: var(--sklearn-color-unfitted-level-0);\n",
       "}\n",
       "\n",
       "#sk-container-id-3 div.sk-estimator.fitted {\n",
       "  /* fitted */\n",
       "  background-color: var(--sklearn-color-fitted-level-0);\n",
       "}\n",
       "\n",
       "/* on hover */\n",
       "#sk-container-id-3 div.sk-estimator:hover {\n",
       "  /* unfitted */\n",
       "  background-color: var(--sklearn-color-unfitted-level-2);\n",
       "}\n",
       "\n",
       "#sk-container-id-3 div.sk-estimator.fitted:hover {\n",
       "  /* fitted */\n",
       "  background-color: var(--sklearn-color-fitted-level-2);\n",
       "}\n",
       "\n",
       "/* Specification for estimator info (e.g. \"i\" and \"?\") */\n",
       "\n",
       "/* Common style for \"i\" and \"?\" */\n",
       "\n",
       ".sk-estimator-doc-link,\n",
       "a:link.sk-estimator-doc-link,\n",
       "a:visited.sk-estimator-doc-link {\n",
       "  float: right;\n",
       "  font-size: smaller;\n",
       "  line-height: 1em;\n",
       "  font-family: monospace;\n",
       "  background-color: var(--sklearn-color-background);\n",
       "  border-radius: 1em;\n",
       "  height: 1em;\n",
       "  width: 1em;\n",
       "  text-decoration: none !important;\n",
       "  margin-left: 0.5em;\n",
       "  text-align: center;\n",
       "  /* unfitted */\n",
       "  border: var(--sklearn-color-unfitted-level-1) 1pt solid;\n",
       "  color: var(--sklearn-color-unfitted-level-1);\n",
       "}\n",
       "\n",
       ".sk-estimator-doc-link.fitted,\n",
       "a:link.sk-estimator-doc-link.fitted,\n",
       "a:visited.sk-estimator-doc-link.fitted {\n",
       "  /* fitted */\n",
       "  border: var(--sklearn-color-fitted-level-1) 1pt solid;\n",
       "  color: var(--sklearn-color-fitted-level-1);\n",
       "}\n",
       "\n",
       "/* On hover */\n",
       "div.sk-estimator:hover .sk-estimator-doc-link:hover,\n",
       ".sk-estimator-doc-link:hover,\n",
       "div.sk-label-container:hover .sk-estimator-doc-link:hover,\n",
       ".sk-estimator-doc-link:hover {\n",
       "  /* unfitted */\n",
       "  background-color: var(--sklearn-color-unfitted-level-3);\n",
       "  color: var(--sklearn-color-background);\n",
       "  text-decoration: none;\n",
       "}\n",
       "\n",
       "div.sk-estimator.fitted:hover .sk-estimator-doc-link.fitted:hover,\n",
       ".sk-estimator-doc-link.fitted:hover,\n",
       "div.sk-label-container:hover .sk-estimator-doc-link.fitted:hover,\n",
       ".sk-estimator-doc-link.fitted:hover {\n",
       "  /* fitted */\n",
       "  background-color: var(--sklearn-color-fitted-level-3);\n",
       "  color: var(--sklearn-color-background);\n",
       "  text-decoration: none;\n",
       "}\n",
       "\n",
       "/* Span, style for the box shown on hovering the info icon */\n",
       ".sk-estimator-doc-link span {\n",
       "  display: none;\n",
       "  z-index: 9999;\n",
       "  position: relative;\n",
       "  font-weight: normal;\n",
       "  right: .2ex;\n",
       "  padding: .5ex;\n",
       "  margin: .5ex;\n",
       "  width: min-content;\n",
       "  min-width: 20ex;\n",
       "  max-width: 50ex;\n",
       "  color: var(--sklearn-color-text);\n",
       "  box-shadow: 2pt 2pt 4pt #999;\n",
       "  /* unfitted */\n",
       "  background: var(--sklearn-color-unfitted-level-0);\n",
       "  border: .5pt solid var(--sklearn-color-unfitted-level-3);\n",
       "}\n",
       "\n",
       ".sk-estimator-doc-link.fitted span {\n",
       "  /* fitted */\n",
       "  background: var(--sklearn-color-fitted-level-0);\n",
       "  border: var(--sklearn-color-fitted-level-3);\n",
       "}\n",
       "\n",
       ".sk-estimator-doc-link:hover span {\n",
       "  display: block;\n",
       "}\n",
       "\n",
       "/* \"?\"-specific style due to the `<a>` HTML tag */\n",
       "\n",
       "#sk-container-id-3 a.estimator_doc_link {\n",
       "  float: right;\n",
       "  font-size: 1rem;\n",
       "  line-height: 1em;\n",
       "  font-family: monospace;\n",
       "  background-color: var(--sklearn-color-background);\n",
       "  border-radius: 1rem;\n",
       "  height: 1rem;\n",
       "  width: 1rem;\n",
       "  text-decoration: none;\n",
       "  /* unfitted */\n",
       "  color: var(--sklearn-color-unfitted-level-1);\n",
       "  border: var(--sklearn-color-unfitted-level-1) 1pt solid;\n",
       "}\n",
       "\n",
       "#sk-container-id-3 a.estimator_doc_link.fitted {\n",
       "  /* fitted */\n",
       "  border: var(--sklearn-color-fitted-level-1) 1pt solid;\n",
       "  color: var(--sklearn-color-fitted-level-1);\n",
       "}\n",
       "\n",
       "/* On hover */\n",
       "#sk-container-id-3 a.estimator_doc_link:hover {\n",
       "  /* unfitted */\n",
       "  background-color: var(--sklearn-color-unfitted-level-3);\n",
       "  color: var(--sklearn-color-background);\n",
       "  text-decoration: none;\n",
       "}\n",
       "\n",
       "#sk-container-id-3 a.estimator_doc_link.fitted:hover {\n",
       "  /* fitted */\n",
       "  background-color: var(--sklearn-color-fitted-level-3);\n",
       "}\n",
       "</style><div id=\"sk-container-id-3\" class=\"sk-top-container\"><div class=\"sk-text-repr-fallback\"><pre>XGBClassifier(base_score=None, booster=None, callbacks=None,\n",
       "              colsample_bylevel=None, colsample_bynode=None,\n",
       "              colsample_bytree=None, device=None, early_stopping_rounds=None,\n",
       "              enable_categorical=False, eval_metric=None, feature_types=None,\n",
       "              gamma=None, grow_policy=None, importance_type=None,\n",
       "              interaction_constraints=None, learning_rate=None, max_bin=None,\n",
       "              max_cat_threshold=None, max_cat_to_onehot=None,\n",
       "              max_delta_step=None, max_depth=None, max_leaves=None,\n",
       "              min_child_weight=None, missing=nan, monotone_constraints=None,\n",
       "              multi_strategy=None, n_estimators=None, n_jobs=None,\n",
       "              num_parallel_tree=None, random_state=None, ...)</pre><b>In a Jupyter environment, please rerun this cell to show the HTML representation or trust the notebook. <br />On GitHub, the HTML representation is unable to render, please try loading this page with nbviewer.org.</b></div><div class=\"sk-container\" hidden><div class=\"sk-item\"><div class=\"sk-estimator fitted sk-toggleable\"><input class=\"sk-toggleable__control sk-hidden--visually\" id=\"sk-estimator-id-3\" type=\"checkbox\" checked><label for=\"sk-estimator-id-3\" class=\"sk-toggleable__label fitted sk-toggleable__label-arrow\"><div><div>XGBClassifier</div></div><div><span class=\"sk-estimator-doc-link fitted\">i<span>Fitted</span></span></div></label><div class=\"sk-toggleable__content fitted\"><pre>XGBClassifier(base_score=None, booster=None, callbacks=None,\n",
       "              colsample_bylevel=None, colsample_bynode=None,\n",
       "              colsample_bytree=None, device=None, early_stopping_rounds=None,\n",
       "              enable_categorical=False, eval_metric=None, feature_types=None,\n",
       "              gamma=None, grow_policy=None, importance_type=None,\n",
       "              interaction_constraints=None, learning_rate=None, max_bin=None,\n",
       "              max_cat_threshold=None, max_cat_to_onehot=None,\n",
       "              max_delta_step=None, max_depth=None, max_leaves=None,\n",
       "              min_child_weight=None, missing=nan, monotone_constraints=None,\n",
       "              multi_strategy=None, n_estimators=None, n_jobs=None,\n",
       "              num_parallel_tree=None, random_state=None, ...)</pre></div> </div></div></div></div>"
      ],
      "text/plain": [
       "XGBClassifier(base_score=None, booster=None, callbacks=None,\n",
       "              colsample_bylevel=None, colsample_bynode=None,\n",
       "              colsample_bytree=None, device=None, early_stopping_rounds=None,\n",
       "              enable_categorical=False, eval_metric=None, feature_types=None,\n",
       "              gamma=None, grow_policy=None, importance_type=None,\n",
       "              interaction_constraints=None, learning_rate=None, max_bin=None,\n",
       "              max_cat_threshold=None, max_cat_to_onehot=None,\n",
       "              max_delta_step=None, max_depth=None, max_leaves=None,\n",
       "              min_child_weight=None, missing=nan, monotone_constraints=None,\n",
       "              multi_strategy=None, n_estimators=None, n_jobs=None,\n",
       "              num_parallel_tree=None, random_state=None, ...)"
      ]
     },
     "execution_count": 73,
     "metadata": {},
     "output_type": "execute_result"
    }
   ],
   "source": [
    "model.fit(X_resampled, y_resampled)"
   ]
  },
  {
   "cell_type": "code",
   "execution_count": 74,
   "id": "51ebac5b-1f21-4bdd-9e7a-03802fb3bb9c",
   "metadata": {},
   "outputs": [],
   "source": [
    "# Predict class labels (0 or 1)\n",
    "y_test_pred = model.predict(X_test)\n",
    "\n",
    "# Predict probabilities for each class\n",
    "y_test_pred_proba = model.predict_proba(X_test)[:, 1]  # Probabilities for class 1\n"
   ]
  },
  {
   "cell_type": "code",
   "execution_count": 75,
   "id": "8db8fd58-53f1-4e2e-920c-fa39035afd2a",
   "metadata": {},
   "outputs": [
    {
     "name": "stdout",
     "output_type": "stream",
     "text": [
      "RUS:\n",
      "Recall (Sensitivity) 0.6859140633810759\n",
      "Specificity (TNR) 0.6179074277042408\n",
      "F1-Score 0.36774798198143727\n",
      "G-Mean 0.6510233440745149\n",
      "MCC 0.2235325735120558\n"
     ]
    }
   ],
   "source": [
    "print(\"RUS:\")\n",
    "evaluate_model(y_test, y_test_pred_proba, 0.5)"
   ]
  },
  {
   "cell_type": "markdown",
   "id": "5a21d07d-25ab-421a-9190-2183a302ad71",
   "metadata": {},
   "source": [
    "### Random Over Sampling"
   ]
  },
  {
   "cell_type": "code",
   "execution_count": 76,
   "id": "86dca2e7-a114-4d2e-9162-83f088003258",
   "metadata": {},
   "outputs": [
    {
     "name": "stdout",
     "output_type": "stream",
     "text": [
      "Class distribution after ROS: Counter({0: 654747, 1: 654747})\n"
     ]
    }
   ],
   "source": [
    "from imblearn.over_sampling import RandomOverSampler\n",
    "\n",
    "# Initialize Random Undersampler\n",
    "ros = RandomOverSampler(sampling_strategy='auto', random_state=42)\n",
    "\n",
    "# Apply undersampling\n",
    "X_resampled, y_resampled = ros.fit_resample(X_train, y_train)\n",
    "\n",
    "# Check new class distribution\n",
    "print(\"Class distribution after ROS:\", Counter(y_resampled))"
   ]
  },
  {
   "cell_type": "code",
   "execution_count": 77,
   "id": "69187e47-d807-45b5-b4cf-830bd1177833",
   "metadata": {},
   "outputs": [
    {
     "data": {
      "text/html": [
       "<style>#sk-container-id-4 {\n",
       "  /* Definition of color scheme common for light and dark mode */\n",
       "  --sklearn-color-text: #000;\n",
       "  --sklearn-color-text-muted: #666;\n",
       "  --sklearn-color-line: gray;\n",
       "  /* Definition of color scheme for unfitted estimators */\n",
       "  --sklearn-color-unfitted-level-0: #fff5e6;\n",
       "  --sklearn-color-unfitted-level-1: #f6e4d2;\n",
       "  --sklearn-color-unfitted-level-2: #ffe0b3;\n",
       "  --sklearn-color-unfitted-level-3: chocolate;\n",
       "  /* Definition of color scheme for fitted estimators */\n",
       "  --sklearn-color-fitted-level-0: #f0f8ff;\n",
       "  --sklearn-color-fitted-level-1: #d4ebff;\n",
       "  --sklearn-color-fitted-level-2: #b3dbfd;\n",
       "  --sklearn-color-fitted-level-3: cornflowerblue;\n",
       "\n",
       "  /* Specific color for light theme */\n",
       "  --sklearn-color-text-on-default-background: var(--sg-text-color, var(--theme-code-foreground, var(--jp-content-font-color1, black)));\n",
       "  --sklearn-color-background: var(--sg-background-color, var(--theme-background, var(--jp-layout-color0, white)));\n",
       "  --sklearn-color-border-box: var(--sg-text-color, var(--theme-code-foreground, var(--jp-content-font-color1, black)));\n",
       "  --sklearn-color-icon: #696969;\n",
       "\n",
       "  @media (prefers-color-scheme: dark) {\n",
       "    /* Redefinition of color scheme for dark theme */\n",
       "    --sklearn-color-text-on-default-background: var(--sg-text-color, var(--theme-code-foreground, var(--jp-content-font-color1, white)));\n",
       "    --sklearn-color-background: var(--sg-background-color, var(--theme-background, var(--jp-layout-color0, #111)));\n",
       "    --sklearn-color-border-box: var(--sg-text-color, var(--theme-code-foreground, var(--jp-content-font-color1, white)));\n",
       "    --sklearn-color-icon: #878787;\n",
       "  }\n",
       "}\n",
       "\n",
       "#sk-container-id-4 {\n",
       "  color: var(--sklearn-color-text);\n",
       "}\n",
       "\n",
       "#sk-container-id-4 pre {\n",
       "  padding: 0;\n",
       "}\n",
       "\n",
       "#sk-container-id-4 input.sk-hidden--visually {\n",
       "  border: 0;\n",
       "  clip: rect(1px 1px 1px 1px);\n",
       "  clip: rect(1px, 1px, 1px, 1px);\n",
       "  height: 1px;\n",
       "  margin: -1px;\n",
       "  overflow: hidden;\n",
       "  padding: 0;\n",
       "  position: absolute;\n",
       "  width: 1px;\n",
       "}\n",
       "\n",
       "#sk-container-id-4 div.sk-dashed-wrapped {\n",
       "  border: 1px dashed var(--sklearn-color-line);\n",
       "  margin: 0 0.4em 0.5em 0.4em;\n",
       "  box-sizing: border-box;\n",
       "  padding-bottom: 0.4em;\n",
       "  background-color: var(--sklearn-color-background);\n",
       "}\n",
       "\n",
       "#sk-container-id-4 div.sk-container {\n",
       "  /* jupyter's `normalize.less` sets `[hidden] { display: none; }`\n",
       "     but bootstrap.min.css set `[hidden] { display: none !important; }`\n",
       "     so we also need the `!important` here to be able to override the\n",
       "     default hidden behavior on the sphinx rendered scikit-learn.org.\n",
       "     See: https://github.com/scikit-learn/scikit-learn/issues/21755 */\n",
       "  display: inline-block !important;\n",
       "  position: relative;\n",
       "}\n",
       "\n",
       "#sk-container-id-4 div.sk-text-repr-fallback {\n",
       "  display: none;\n",
       "}\n",
       "\n",
       "div.sk-parallel-item,\n",
       "div.sk-serial,\n",
       "div.sk-item {\n",
       "  /* draw centered vertical line to link estimators */\n",
       "  background-image: linear-gradient(var(--sklearn-color-text-on-default-background), var(--sklearn-color-text-on-default-background));\n",
       "  background-size: 2px 100%;\n",
       "  background-repeat: no-repeat;\n",
       "  background-position: center center;\n",
       "}\n",
       "\n",
       "/* Parallel-specific style estimator block */\n",
       "\n",
       "#sk-container-id-4 div.sk-parallel-item::after {\n",
       "  content: \"\";\n",
       "  width: 100%;\n",
       "  border-bottom: 2px solid var(--sklearn-color-text-on-default-background);\n",
       "  flex-grow: 1;\n",
       "}\n",
       "\n",
       "#sk-container-id-4 div.sk-parallel {\n",
       "  display: flex;\n",
       "  align-items: stretch;\n",
       "  justify-content: center;\n",
       "  background-color: var(--sklearn-color-background);\n",
       "  position: relative;\n",
       "}\n",
       "\n",
       "#sk-container-id-4 div.sk-parallel-item {\n",
       "  display: flex;\n",
       "  flex-direction: column;\n",
       "}\n",
       "\n",
       "#sk-container-id-4 div.sk-parallel-item:first-child::after {\n",
       "  align-self: flex-end;\n",
       "  width: 50%;\n",
       "}\n",
       "\n",
       "#sk-container-id-4 div.sk-parallel-item:last-child::after {\n",
       "  align-self: flex-start;\n",
       "  width: 50%;\n",
       "}\n",
       "\n",
       "#sk-container-id-4 div.sk-parallel-item:only-child::after {\n",
       "  width: 0;\n",
       "}\n",
       "\n",
       "/* Serial-specific style estimator block */\n",
       "\n",
       "#sk-container-id-4 div.sk-serial {\n",
       "  display: flex;\n",
       "  flex-direction: column;\n",
       "  align-items: center;\n",
       "  background-color: var(--sklearn-color-background);\n",
       "  padding-right: 1em;\n",
       "  padding-left: 1em;\n",
       "}\n",
       "\n",
       "\n",
       "/* Toggleable style: style used for estimator/Pipeline/ColumnTransformer box that is\n",
       "clickable and can be expanded/collapsed.\n",
       "- Pipeline and ColumnTransformer use this feature and define the default style\n",
       "- Estimators will overwrite some part of the style using the `sk-estimator` class\n",
       "*/\n",
       "\n",
       "/* Pipeline and ColumnTransformer style (default) */\n",
       "\n",
       "#sk-container-id-4 div.sk-toggleable {\n",
       "  /* Default theme specific background. It is overwritten whether we have a\n",
       "  specific estimator or a Pipeline/ColumnTransformer */\n",
       "  background-color: var(--sklearn-color-background);\n",
       "}\n",
       "\n",
       "/* Toggleable label */\n",
       "#sk-container-id-4 label.sk-toggleable__label {\n",
       "  cursor: pointer;\n",
       "  display: flex;\n",
       "  width: 100%;\n",
       "  margin-bottom: 0;\n",
       "  padding: 0.5em;\n",
       "  box-sizing: border-box;\n",
       "  text-align: center;\n",
       "  align-items: start;\n",
       "  justify-content: space-between;\n",
       "  gap: 0.5em;\n",
       "}\n",
       "\n",
       "#sk-container-id-4 label.sk-toggleable__label .caption {\n",
       "  font-size: 0.6rem;\n",
       "  font-weight: lighter;\n",
       "  color: var(--sklearn-color-text-muted);\n",
       "}\n",
       "\n",
       "#sk-container-id-4 label.sk-toggleable__label-arrow:before {\n",
       "  /* Arrow on the left of the label */\n",
       "  content: \"▸\";\n",
       "  float: left;\n",
       "  margin-right: 0.25em;\n",
       "  color: var(--sklearn-color-icon);\n",
       "}\n",
       "\n",
       "#sk-container-id-4 label.sk-toggleable__label-arrow:hover:before {\n",
       "  color: var(--sklearn-color-text);\n",
       "}\n",
       "\n",
       "/* Toggleable content - dropdown */\n",
       "\n",
       "#sk-container-id-4 div.sk-toggleable__content {\n",
       "  max-height: 0;\n",
       "  max-width: 0;\n",
       "  overflow: hidden;\n",
       "  text-align: left;\n",
       "  /* unfitted */\n",
       "  background-color: var(--sklearn-color-unfitted-level-0);\n",
       "}\n",
       "\n",
       "#sk-container-id-4 div.sk-toggleable__content.fitted {\n",
       "  /* fitted */\n",
       "  background-color: var(--sklearn-color-fitted-level-0);\n",
       "}\n",
       "\n",
       "#sk-container-id-4 div.sk-toggleable__content pre {\n",
       "  margin: 0.2em;\n",
       "  border-radius: 0.25em;\n",
       "  color: var(--sklearn-color-text);\n",
       "  /* unfitted */\n",
       "  background-color: var(--sklearn-color-unfitted-level-0);\n",
       "}\n",
       "\n",
       "#sk-container-id-4 div.sk-toggleable__content.fitted pre {\n",
       "  /* unfitted */\n",
       "  background-color: var(--sklearn-color-fitted-level-0);\n",
       "}\n",
       "\n",
       "#sk-container-id-4 input.sk-toggleable__control:checked~div.sk-toggleable__content {\n",
       "  /* Expand drop-down */\n",
       "  max-height: 200px;\n",
       "  max-width: 100%;\n",
       "  overflow: auto;\n",
       "}\n",
       "\n",
       "#sk-container-id-4 input.sk-toggleable__control:checked~label.sk-toggleable__label-arrow:before {\n",
       "  content: \"▾\";\n",
       "}\n",
       "\n",
       "/* Pipeline/ColumnTransformer-specific style */\n",
       "\n",
       "#sk-container-id-4 div.sk-label input.sk-toggleable__control:checked~label.sk-toggleable__label {\n",
       "  color: var(--sklearn-color-text);\n",
       "  background-color: var(--sklearn-color-unfitted-level-2);\n",
       "}\n",
       "\n",
       "#sk-container-id-4 div.sk-label.fitted input.sk-toggleable__control:checked~label.sk-toggleable__label {\n",
       "  background-color: var(--sklearn-color-fitted-level-2);\n",
       "}\n",
       "\n",
       "/* Estimator-specific style */\n",
       "\n",
       "/* Colorize estimator box */\n",
       "#sk-container-id-4 div.sk-estimator input.sk-toggleable__control:checked~label.sk-toggleable__label {\n",
       "  /* unfitted */\n",
       "  background-color: var(--sklearn-color-unfitted-level-2);\n",
       "}\n",
       "\n",
       "#sk-container-id-4 div.sk-estimator.fitted input.sk-toggleable__control:checked~label.sk-toggleable__label {\n",
       "  /* fitted */\n",
       "  background-color: var(--sklearn-color-fitted-level-2);\n",
       "}\n",
       "\n",
       "#sk-container-id-4 div.sk-label label.sk-toggleable__label,\n",
       "#sk-container-id-4 div.sk-label label {\n",
       "  /* The background is the default theme color */\n",
       "  color: var(--sklearn-color-text-on-default-background);\n",
       "}\n",
       "\n",
       "/* On hover, darken the color of the background */\n",
       "#sk-container-id-4 div.sk-label:hover label.sk-toggleable__label {\n",
       "  color: var(--sklearn-color-text);\n",
       "  background-color: var(--sklearn-color-unfitted-level-2);\n",
       "}\n",
       "\n",
       "/* Label box, darken color on hover, fitted */\n",
       "#sk-container-id-4 div.sk-label.fitted:hover label.sk-toggleable__label.fitted {\n",
       "  color: var(--sklearn-color-text);\n",
       "  background-color: var(--sklearn-color-fitted-level-2);\n",
       "}\n",
       "\n",
       "/* Estimator label */\n",
       "\n",
       "#sk-container-id-4 div.sk-label label {\n",
       "  font-family: monospace;\n",
       "  font-weight: bold;\n",
       "  display: inline-block;\n",
       "  line-height: 1.2em;\n",
       "}\n",
       "\n",
       "#sk-container-id-4 div.sk-label-container {\n",
       "  text-align: center;\n",
       "}\n",
       "\n",
       "/* Estimator-specific */\n",
       "#sk-container-id-4 div.sk-estimator {\n",
       "  font-family: monospace;\n",
       "  border: 1px dotted var(--sklearn-color-border-box);\n",
       "  border-radius: 0.25em;\n",
       "  box-sizing: border-box;\n",
       "  margin-bottom: 0.5em;\n",
       "  /* unfitted */\n",
       "  background-color: var(--sklearn-color-unfitted-level-0);\n",
       "}\n",
       "\n",
       "#sk-container-id-4 div.sk-estimator.fitted {\n",
       "  /* fitted */\n",
       "  background-color: var(--sklearn-color-fitted-level-0);\n",
       "}\n",
       "\n",
       "/* on hover */\n",
       "#sk-container-id-4 div.sk-estimator:hover {\n",
       "  /* unfitted */\n",
       "  background-color: var(--sklearn-color-unfitted-level-2);\n",
       "}\n",
       "\n",
       "#sk-container-id-4 div.sk-estimator.fitted:hover {\n",
       "  /* fitted */\n",
       "  background-color: var(--sklearn-color-fitted-level-2);\n",
       "}\n",
       "\n",
       "/* Specification for estimator info (e.g. \"i\" and \"?\") */\n",
       "\n",
       "/* Common style for \"i\" and \"?\" */\n",
       "\n",
       ".sk-estimator-doc-link,\n",
       "a:link.sk-estimator-doc-link,\n",
       "a:visited.sk-estimator-doc-link {\n",
       "  float: right;\n",
       "  font-size: smaller;\n",
       "  line-height: 1em;\n",
       "  font-family: monospace;\n",
       "  background-color: var(--sklearn-color-background);\n",
       "  border-radius: 1em;\n",
       "  height: 1em;\n",
       "  width: 1em;\n",
       "  text-decoration: none !important;\n",
       "  margin-left: 0.5em;\n",
       "  text-align: center;\n",
       "  /* unfitted */\n",
       "  border: var(--sklearn-color-unfitted-level-1) 1pt solid;\n",
       "  color: var(--sklearn-color-unfitted-level-1);\n",
       "}\n",
       "\n",
       ".sk-estimator-doc-link.fitted,\n",
       "a:link.sk-estimator-doc-link.fitted,\n",
       "a:visited.sk-estimator-doc-link.fitted {\n",
       "  /* fitted */\n",
       "  border: var(--sklearn-color-fitted-level-1) 1pt solid;\n",
       "  color: var(--sklearn-color-fitted-level-1);\n",
       "}\n",
       "\n",
       "/* On hover */\n",
       "div.sk-estimator:hover .sk-estimator-doc-link:hover,\n",
       ".sk-estimator-doc-link:hover,\n",
       "div.sk-label-container:hover .sk-estimator-doc-link:hover,\n",
       ".sk-estimator-doc-link:hover {\n",
       "  /* unfitted */\n",
       "  background-color: var(--sklearn-color-unfitted-level-3);\n",
       "  color: var(--sklearn-color-background);\n",
       "  text-decoration: none;\n",
       "}\n",
       "\n",
       "div.sk-estimator.fitted:hover .sk-estimator-doc-link.fitted:hover,\n",
       ".sk-estimator-doc-link.fitted:hover,\n",
       "div.sk-label-container:hover .sk-estimator-doc-link.fitted:hover,\n",
       ".sk-estimator-doc-link.fitted:hover {\n",
       "  /* fitted */\n",
       "  background-color: var(--sklearn-color-fitted-level-3);\n",
       "  color: var(--sklearn-color-background);\n",
       "  text-decoration: none;\n",
       "}\n",
       "\n",
       "/* Span, style for the box shown on hovering the info icon */\n",
       ".sk-estimator-doc-link span {\n",
       "  display: none;\n",
       "  z-index: 9999;\n",
       "  position: relative;\n",
       "  font-weight: normal;\n",
       "  right: .2ex;\n",
       "  padding: .5ex;\n",
       "  margin: .5ex;\n",
       "  width: min-content;\n",
       "  min-width: 20ex;\n",
       "  max-width: 50ex;\n",
       "  color: var(--sklearn-color-text);\n",
       "  box-shadow: 2pt 2pt 4pt #999;\n",
       "  /* unfitted */\n",
       "  background: var(--sklearn-color-unfitted-level-0);\n",
       "  border: .5pt solid var(--sklearn-color-unfitted-level-3);\n",
       "}\n",
       "\n",
       ".sk-estimator-doc-link.fitted span {\n",
       "  /* fitted */\n",
       "  background: var(--sklearn-color-fitted-level-0);\n",
       "  border: var(--sklearn-color-fitted-level-3);\n",
       "}\n",
       "\n",
       ".sk-estimator-doc-link:hover span {\n",
       "  display: block;\n",
       "}\n",
       "\n",
       "/* \"?\"-specific style due to the `<a>` HTML tag */\n",
       "\n",
       "#sk-container-id-4 a.estimator_doc_link {\n",
       "  float: right;\n",
       "  font-size: 1rem;\n",
       "  line-height: 1em;\n",
       "  font-family: monospace;\n",
       "  background-color: var(--sklearn-color-background);\n",
       "  border-radius: 1rem;\n",
       "  height: 1rem;\n",
       "  width: 1rem;\n",
       "  text-decoration: none;\n",
       "  /* unfitted */\n",
       "  color: var(--sklearn-color-unfitted-level-1);\n",
       "  border: var(--sklearn-color-unfitted-level-1) 1pt solid;\n",
       "}\n",
       "\n",
       "#sk-container-id-4 a.estimator_doc_link.fitted {\n",
       "  /* fitted */\n",
       "  border: var(--sklearn-color-fitted-level-1) 1pt solid;\n",
       "  color: var(--sklearn-color-fitted-level-1);\n",
       "}\n",
       "\n",
       "/* On hover */\n",
       "#sk-container-id-4 a.estimator_doc_link:hover {\n",
       "  /* unfitted */\n",
       "  background-color: var(--sklearn-color-unfitted-level-3);\n",
       "  color: var(--sklearn-color-background);\n",
       "  text-decoration: none;\n",
       "}\n",
       "\n",
       "#sk-container-id-4 a.estimator_doc_link.fitted:hover {\n",
       "  /* fitted */\n",
       "  background-color: var(--sklearn-color-fitted-level-3);\n",
       "}\n",
       "</style><div id=\"sk-container-id-4\" class=\"sk-top-container\"><div class=\"sk-text-repr-fallback\"><pre>XGBClassifier(base_score=None, booster=None, callbacks=None,\n",
       "              colsample_bylevel=None, colsample_bynode=None,\n",
       "              colsample_bytree=None, device=None, early_stopping_rounds=None,\n",
       "              enable_categorical=False, eval_metric=None, feature_types=None,\n",
       "              gamma=None, grow_policy=None, importance_type=None,\n",
       "              interaction_constraints=None, learning_rate=None, max_bin=None,\n",
       "              max_cat_threshold=None, max_cat_to_onehot=None,\n",
       "              max_delta_step=None, max_depth=None, max_leaves=None,\n",
       "              min_child_weight=None, missing=nan, monotone_constraints=None,\n",
       "              multi_strategy=None, n_estimators=None, n_jobs=None,\n",
       "              num_parallel_tree=None, random_state=None, ...)</pre><b>In a Jupyter environment, please rerun this cell to show the HTML representation or trust the notebook. <br />On GitHub, the HTML representation is unable to render, please try loading this page with nbviewer.org.</b></div><div class=\"sk-container\" hidden><div class=\"sk-item\"><div class=\"sk-estimator fitted sk-toggleable\"><input class=\"sk-toggleable__control sk-hidden--visually\" id=\"sk-estimator-id-4\" type=\"checkbox\" checked><label for=\"sk-estimator-id-4\" class=\"sk-toggleable__label fitted sk-toggleable__label-arrow\"><div><div>XGBClassifier</div></div><div><span class=\"sk-estimator-doc-link fitted\">i<span>Fitted</span></span></div></label><div class=\"sk-toggleable__content fitted\"><pre>XGBClassifier(base_score=None, booster=None, callbacks=None,\n",
       "              colsample_bylevel=None, colsample_bynode=None,\n",
       "              colsample_bytree=None, device=None, early_stopping_rounds=None,\n",
       "              enable_categorical=False, eval_metric=None, feature_types=None,\n",
       "              gamma=None, grow_policy=None, importance_type=None,\n",
       "              interaction_constraints=None, learning_rate=None, max_bin=None,\n",
       "              max_cat_threshold=None, max_cat_to_onehot=None,\n",
       "              max_delta_step=None, max_depth=None, max_leaves=None,\n",
       "              min_child_weight=None, missing=nan, monotone_constraints=None,\n",
       "              multi_strategy=None, n_estimators=None, n_jobs=None,\n",
       "              num_parallel_tree=None, random_state=None, ...)</pre></div> </div></div></div></div>"
      ],
      "text/plain": [
       "XGBClassifier(base_score=None, booster=None, callbacks=None,\n",
       "              colsample_bylevel=None, colsample_bynode=None,\n",
       "              colsample_bytree=None, device=None, early_stopping_rounds=None,\n",
       "              enable_categorical=False, eval_metric=None, feature_types=None,\n",
       "              gamma=None, grow_policy=None, importance_type=None,\n",
       "              interaction_constraints=None, learning_rate=None, max_bin=None,\n",
       "              max_cat_threshold=None, max_cat_to_onehot=None,\n",
       "              max_delta_step=None, max_depth=None, max_leaves=None,\n",
       "              min_child_weight=None, missing=nan, monotone_constraints=None,\n",
       "              multi_strategy=None, n_estimators=None, n_jobs=None,\n",
       "              num_parallel_tree=None, random_state=None, ...)"
      ]
     },
     "execution_count": 77,
     "metadata": {},
     "output_type": "execute_result"
    }
   ],
   "source": [
    "model.fit(X_resampled, y_resampled)"
   ]
  },
  {
   "cell_type": "code",
   "execution_count": 78,
   "id": "ae231770-be6a-4dde-a816-17bc27ab9cb9",
   "metadata": {},
   "outputs": [],
   "source": [
    "# Predict class labels (0 or 1)\n",
    "y_test_pred = model.predict(X_test)\n",
    "\n",
    "# Predict probabilities for each class\n",
    "y_test_pred_proba = model.predict_proba(X_test)[:, 1]  # Probabilities for class 1\n"
   ]
  },
  {
   "cell_type": "code",
   "execution_count": 79,
   "id": "29a2a3d4-b1e4-417c-b9b1-1dd76193a5b2",
   "metadata": {},
   "outputs": [
    {
     "name": "stdout",
     "output_type": "stream",
     "text": [
      "ROS:\n",
      "Recall (Sensitivity) 0.677455734746814\n",
      "Specificity (TNR) 0.6315656352752719\n",
      "F1-Score 0.3713296655745812\n",
      "G-Mean 0.6541083713623054\n",
      "MCC 0.22827481031886732\n"
     ]
    }
   ],
   "source": [
    "print(\"ROS:\")\n",
    "evaluate_model(y_test, y_test_pred_proba, 0.5)"
   ]
  },
  {
   "cell_type": "code",
   "execution_count": 80,
   "id": "02d1959d-98cc-468e-bece-af9dff0c1f8c",
   "metadata": {},
   "outputs": [
    {
     "name": "stdout",
     "output_type": "stream",
     "text": [
      "Pandas version: 2.2.3\n",
      "Numpy version: 2.0.2\n",
      "sklearn version: 1.6.1\n",
      "xgboost version: 2.1.4\n",
      "imblearn version: 0.13.0\n"
     ]
    }
   ],
   "source": [
    "# Print the version of packages used in this project\n",
    "import sklearn\n",
    "import xgboost\n",
    "import imblearn\n",
    "\n",
    "print('Pandas version:',pd.__version__)\n",
    "print('Numpy version:',np.__version__)\n",
    "print('sklearn version:',sklearn.__version__)\n",
    "print('xgboost version:',xgboost.__version__)\n",
    "print('imblearn version:',imblearn.__version__)"
   ]
  },
  {
   "cell_type": "code",
   "execution_count": 81,
   "id": "99f1df90-c2c2-40bf-a3bb-3595257aecb9",
   "metadata": {
    "scrolled": true
   },
   "outputs": [
    {
     "data": {
      "text/plain": [
       "<Figure size 1400x600 with 0 Axes>"
      ]
     },
     "metadata": {},
     "output_type": "display_data"
    },
    {
     "data": {
      "image/png": "[encoded data removed]",
      "text/plain": [
       "<Figure size 1600x800 with 1 Axes>"
      ]
     },
     "metadata": {},
     "output_type": "display_data"
    }
   ],
   "source": [
    "import pandas as pd\n",
    "import matplotlib.pyplot as plt\n",
    "\n",
    "# Data from the table\n",
    "data = {\n",
    "    \"Method\": [\"No Balancing\", \"SMOTE\", \"RUS\", \"ROS\", \"TO-MCC\", \"TO-MCC-C\", \"TO-Gmean\", \"TO-Gmean-C\", \"TO-F1\", \"TO-F1-C\"],\n",
    "    \"Recall\": [0.1325, 0.1545, 0.6859, 0.6775, 0.5324, 0.6555, 0.6794, 0.6794, 0.5354, 0.6544],\n",
    "    \"Specificity\": [0.9666, 0.9509, 0.6179, 0.6316, 0.7585, 0.6527, 0.6301, 0.6301, 0.7563, 0.6535],\n",
    "    \"F1-score\": [0.2021, 0.2181, 0.3677, 0.3713, 0.3770, 0.3731, 0.3714, 0.3714, 0.3771, 0.3731],\n",
    "    \"G-mean\": [0.3579, 0.3833, 0.6510, 0.6541, 0.6355, 0.6541, 0.6543, 0.6543, 0.6363, 0.6540],\n",
    "    \"MCC\": [0.1671, 0.1550, 0.2235, 0.2283, 0.2343, 0.2295, 0.2285, 0.2285, 0.2342, 0.2295]\n",
    "}\n",
    "\n",
    "# Create DataFrame\n",
    "df = pd.DataFrame(data)\n",
    "df.set_index(\"Method\", inplace=True)\n",
    "\n",
    "# Plot\n",
    "plt.figure(figsize=(14, 6))\n",
    "df.plot(kind='bar', figsize=(16, 8), width=0.85)\n",
    "plt.title(\"Performance Comparison of Balancing Methods\", fontsize=16)\n",
    "plt.ylabel(\"Score\")\n",
    "plt.xlabel(\"Method\")\n",
    "plt.ylim(0, 1)\n",
    "plt.xticks(rotation=45, ha='right')\n",
    "plt.grid(axis='y', linestyle='--', alpha=0.7)\n",
    "plt.legend(title=\"Metrics\", bbox_to_anchor=(1.05, 1), loc='upper left')\n",
    "plt.tight_layout()\n",
    "\n",
    "# Save the chart as PNG\n",
    "plt.savefig(\"performance_comparison.png\", dpi=300)\n",
    "\n",
    "plt.show()\n",
    "\n"
   ]
  },
  {
   "cell_type": "code",
   "execution_count": null,
   "id": "976a487f-30b6-4f2e-a255-2676e7f9e738",
   "metadata": {},
   "outputs": [],
   "source": []
  }
 ],
 "metadata": {
  "kernelspec": {
   "display_name": "Python 3 (ipykernel)",
   "language": "python",
   "name": "python3"
  },
  "language_info": {
   "codemirror_mode": {
    "name": "ipython",
    "version": 3
   },
   "file_extension": ".py",
   "mimetype": "text/x-python",
   "name": "python",
   "nbconvert_exporter": "python",
   "pygments_lexer": "ipython3",
   "version": "3.12.8"
  }
 },
 "nbformat": 4,
 "nbformat_minor": 5
}
